{
 "cells": [
  {
   "cell_type": "code",
   "execution_count": 1,
   "metadata": {},
   "outputs": [],
   "source": [
    "from selenium import webdriver\n",
    "from bs4 import BeautifulSoup\n",
    "import pandas as pd\n",
    "url=\"https://www.imdb.com/chart/toptv/?ref_=nv_tvv_250\""
   ]
  },
  {
   "cell_type": "code",
   "execution_count": 100,
   "metadata": {},
   "outputs": [],
   "source": [
    "### Create a browser instance\n",
    "browser=webdriver.Firefox()"
   ]
  },
  {
   "cell_type": "code",
   "execution_count": 5,
   "metadata": {},
   "outputs": [],
   "source": [
    "browser.get(url)"
   ]
  },
  {
   "cell_type": "code",
   "execution_count": 6,
   "metadata": {},
   "outputs": [],
   "source": [
    "### Get the table tag and create a list of rows\n",
    "html=browser.page_source\n",
    "soup=BeautifulSoup(html,'html.parser')\n",
    "table=soup.find_all(\"table\",class_=\"chart full-width\")"
   ]
  },
  {
   "cell_type": "code",
   "execution_count": 8,
   "metadata": {},
   "outputs": [
    {
     "data": {
      "text/plain": [
       "bs4.element.ResultSet"
      ]
     },
     "execution_count": 8,
     "metadata": {},
     "output_type": "execute_result"
    }
   ],
   "source": [
    "type(table)"
   ]
  },
  {
   "cell_type": "code",
   "execution_count": 9,
   "metadata": {},
   "outputs": [
    {
     "data": {
      "text/plain": [
       "bs4.element.Tag"
      ]
     },
     "execution_count": 9,
     "metadata": {},
     "output_type": "execute_result"
    }
   ],
   "source": [
    "type(table[0])"
   ]
  },
  {
   "cell_type": "code",
   "execution_count": 10,
   "metadata": {},
   "outputs": [],
   "source": [
    "rows=table[0].find_all(\"tr\")"
   ]
  },
  {
   "cell_type": "code",
   "execution_count": 11,
   "metadata": {},
   "outputs": [
    {
     "data": {
      "text/plain": [
       "bs4.element.ResultSet"
      ]
     },
     "execution_count": 11,
     "metadata": {},
     "output_type": "execute_result"
    }
   ],
   "source": [
    "type(rows)"
   ]
  },
  {
   "cell_type": "code",
   "execution_count": 12,
   "metadata": {},
   "outputs": [
    {
     "data": {
      "text/plain": [
       "251"
      ]
     },
     "execution_count": 12,
     "metadata": {},
     "output_type": "execute_result"
    }
   ],
   "source": [
    "len(rows)"
   ]
  },
  {
   "cell_type": "code",
   "execution_count": 16,
   "metadata": {},
   "outputs": [],
   "source": [
    "rel_rows=rows[1:]"
   ]
  },
  {
   "cell_type": "code",
   "execution_count": 20,
   "metadata": {},
   "outputs": [
    {
     "data": {
      "text/plain": [
       "'Planet Earth II'"
      ]
     },
     "execution_count": 20,
     "metadata": {},
     "output_type": "execute_result"
    }
   ],
   "source": [
    "rel_rows[0].find_all(\"td\")[1].a.text"
   ]
  },
  {
   "cell_type": "code",
   "execution_count": 22,
   "metadata": {},
   "outputs": [
    {
     "data": {
      "text/plain": [
       "'(2016)'"
      ]
     },
     "execution_count": 22,
     "metadata": {},
     "output_type": "execute_result"
    }
   ],
   "source": [
    "rel_rows[0].find_all(\"td\")[1].span.text"
   ]
  },
  {
   "cell_type": "code",
   "execution_count": 34,
   "metadata": {},
   "outputs": [
    {
     "data": {
      "text/plain": [
       "'9.5 based on 80,154 user ratings'"
      ]
     },
     "execution_count": 34,
     "metadata": {},
     "output_type": "execute_result"
    }
   ],
   "source": [
    "rel_rows[0].find_all(\"td\")[2].strong.get(\"title\")"
   ]
  },
  {
   "cell_type": "code",
   "execution_count": 28,
   "metadata": {},
   "outputs": [],
   "source": [
    "title=[]\n",
    "year=[]\n",
    "rating=[]\n",
    "for r in rel_rows:\n",
    "    tds=r.find_all(\"td\")\n",
    "    title.append(tds[1].a.text)\n",
    "    year.append(tds[1].span.text)\n",
    "    rating.append(tds[2].strong.text)"
   ]
  },
  {
   "cell_type": "code",
   "execution_count": 29,
   "metadata": {},
   "outputs": [],
   "source": [
    "table=pd.DataFrame({'title':title,'year':year,'rating':rating})"
   ]
  },
  {
   "cell_type": "code",
   "execution_count": 35,
   "metadata": {},
   "outputs": [
    {
     "data": {
      "text/html": [
       "<div>\n",
       "<style scoped>\n",
       "    .dataframe tbody tr th:only-of-type {\n",
       "        vertical-align: middle;\n",
       "    }\n",
       "\n",
       "    .dataframe tbody tr th {\n",
       "        vertical-align: top;\n",
       "    }\n",
       "\n",
       "    .dataframe thead th {\n",
       "        text-align: right;\n",
       "    }\n",
       "</style>\n",
       "<table border=\"1\" class=\"dataframe\">\n",
       "  <thead>\n",
       "    <tr style=\"text-align: right;\">\n",
       "      <th></th>\n",
       "      <th>title</th>\n",
       "      <th>year</th>\n",
       "      <th>rating</th>\n",
       "    </tr>\n",
       "  </thead>\n",
       "  <tbody>\n",
       "    <tr>\n",
       "      <th>0</th>\n",
       "      <td>Planet Earth II</td>\n",
       "      <td>(2016)</td>\n",
       "      <td>9.5</td>\n",
       "    </tr>\n",
       "    <tr>\n",
       "      <th>1</th>\n",
       "      <td>Planet Earth</td>\n",
       "      <td>(2006)</td>\n",
       "      <td>9.4</td>\n",
       "    </tr>\n",
       "  </tbody>\n",
       "</table>\n",
       "</div>"
      ],
      "text/plain": [
       "             title    year rating\n",
       "0  Planet Earth II  (2016)    9.5\n",
       "1     Planet Earth  (2006)    9.4"
      ]
     },
     "execution_count": 35,
     "metadata": {},
     "output_type": "execute_result"
    }
   ],
   "source": [
    "table.head(2)"
   ]
  },
  {
   "cell_type": "code",
   "execution_count": 101,
   "metadata": {},
   "outputs": [],
   "source": [
    "url=\"https://en.wikipedia.org/wiki/List_of_terrorist_incidents_in_August_2019\""
   ]
  },
  {
   "cell_type": "code",
   "execution_count": 102,
   "metadata": {},
   "outputs": [],
   "source": [
    "browser.get(url)"
   ]
  },
  {
   "cell_type": "code",
   "execution_count": 103,
   "metadata": {},
   "outputs": [],
   "source": [
    "html=browser.page_source\n",
    "soup=BeautifulSoup(html,'html.parser')"
   ]
  },
  {
   "cell_type": "code",
   "execution_count": 104,
   "metadata": {},
   "outputs": [],
   "source": [
    "table=soup.find_all(\"table\",class_=\"wikitable sortable jquery-tablesorter\")"
   ]
  },
  {
   "cell_type": "code",
   "execution_count": 105,
   "metadata": {},
   "outputs": [
    {
     "data": {
      "text/plain": [
       "1"
      ]
     },
     "execution_count": 105,
     "metadata": {},
     "output_type": "execute_result"
    }
   ],
   "source": [
    "len(table)"
   ]
  },
  {
   "cell_type": "code",
   "execution_count": 106,
   "metadata": {},
   "outputs": [],
   "source": [
    "rows=table[0].find_all(\"tr\")"
   ]
  },
  {
   "cell_type": "code",
   "execution_count": 87,
   "metadata": {},
   "outputs": [],
   "source": [
    "rel_rows=rows[1:]"
   ]
  },
  {
   "cell_type": "code",
   "execution_count": 88,
   "metadata": {},
   "outputs": [],
   "source": [
    "date=[]\n",
    "typ=[]\n",
    "dead=[]\n",
    "inj=[]\n",
    "location=[]\n",
    "details=[]\n",
    "perp=[]\n",
    "partof=[]\n",
    "for r in rel_rows:\n",
    "    tds=r.find_all(\"td\")\n",
    "    date.append(tds[0].text.strip())\n",
    "    typ.append(tds[1].text.strip())\n",
    "    dead.append(tds[2].text.strip())\n",
    "    inj.append(tds[3].text.strip())\n",
    "    location.append(tds[4].text.strip())\n",
    "    details.append(tds[5].text.strip())\n",
    "    perp.append(tds[6].text.strip())\n",
    "    partof.append(tds[7].text.strip())"
   ]
  },
  {
   "cell_type": "code",
   "execution_count": 89,
   "metadata": {},
   "outputs": [
    {
     "data": {
      "text/plain": [
       "6"
      ]
     },
     "execution_count": 89,
     "metadata": {},
     "output_type": "execute_result"
    }
   ],
   "source": [
    "len(partof)"
   ]
  },
  {
   "cell_type": "code",
   "execution_count": 90,
   "metadata": {},
   "outputs": [],
   "source": [
    "table=pd.DataFrame({'date':date,'type':typ,'dead':dead,'injured':inj,\\\n",
    "                    'location':location,'details':details,\\\n",
    "                   'perpetrator':perp,'partof':partof})"
   ]
  },
  {
   "cell_type": "code",
   "execution_count": 91,
   "metadata": {},
   "outputs": [
    {
     "data": {
      "text/html": [
       "<div>\n",
       "<style scoped>\n",
       "    .dataframe tbody tr th:only-of-type {\n",
       "        vertical-align: middle;\n",
       "    }\n",
       "\n",
       "    .dataframe tbody tr th {\n",
       "        vertical-align: top;\n",
       "    }\n",
       "\n",
       "    .dataframe thead th {\n",
       "        text-align: right;\n",
       "    }\n",
       "</style>\n",
       "<table border=\"1\" class=\"dataframe\">\n",
       "  <thead>\n",
       "    <tr style=\"text-align: right;\">\n",
       "      <th></th>\n",
       "      <th>date</th>\n",
       "      <th>type</th>\n",
       "      <th>dead</th>\n",
       "      <th>injured</th>\n",
       "      <th>location</th>\n",
       "      <th>details</th>\n",
       "      <th>perpetrator</th>\n",
       "      <th>partof</th>\n",
       "    </tr>\n",
       "  </thead>\n",
       "  <tbody>\n",
       "    <tr>\n",
       "      <th>0</th>\n",
       "      <td>3</td>\n",
       "      <td>Mass shooting</td>\n",
       "      <td>22</td>\n",
       "      <td>24</td>\n",
       "      <td>El Paso, Texas, United States</td>\n",
       "      <td>2019 El Paso shooting: A mass shooting took pl...</td>\n",
       "      <td>Patrick Crusius</td>\n",
       "      <td>Terrorism in the United States</td>\n",
       "    </tr>\n",
       "  </tbody>\n",
       "</table>\n",
       "</div>"
      ],
      "text/plain": [
       "  date           type dead injured                       location  \\\n",
       "0    3  Mass shooting   22      24  El Paso, Texas, United States   \n",
       "\n",
       "                                             details      perpetrator  \\\n",
       "0  2019 El Paso shooting: A mass shooting took pl...  Patrick Crusius   \n",
       "\n",
       "                           partof  \n",
       "0  Terrorism in the United States  "
      ]
     },
     "execution_count": 91,
     "metadata": {},
     "output_type": "execute_result"
    }
   ],
   "source": [
    "table.head(1)"
   ]
  },
  {
   "cell_type": "code",
   "execution_count": 140,
   "metadata": {},
   "outputs": [],
   "source": [
    "def get_data(url):\n",
    "    browser.get(url)\n",
    "    html=browser.page_source\n",
    "    soup=BeautifulSoup(html,'html.parser')\n",
    "    table=soup.find_all(\"table\",class_=\"wikitable\")\n",
    "    rows=table[0].find_all(\"tr\")\n",
    "    rel_rows=rows[1:]\n",
    "    date=[]\n",
    "    typ=[]\n",
    "    dead=[]\n",
    "    inj=[]\n",
    "    location=[]\n",
    "    details=[]\n",
    "    perp=[]\n",
    "    partof=[]\n",
    "    for r in rel_rows:\n",
    "        tds=r.find_all(\"td\")\n",
    "        date.append(tds[0].text.strip())\n",
    "        typ.append(tds[1].text.strip())\n",
    "        dead.append(tds[2].text.strip())\n",
    "        inj.append(tds[3].text.strip())\n",
    "        location.append(tds[4].text.strip())\n",
    "        details.append(tds[5].text.strip())\n",
    "        perp.append(tds[6].text.strip())\n",
    "        try:\n",
    "            partof.append(tds[7].text.strip())\n",
    "        except:\n",
    "            partof.append(\"Not found\")\n",
    "    table=pd.DataFrame({'date':date,'type':typ,'dead':dead,'injured':inj,\\\n",
    "                    'location':location,'details':details,\\\n",
    "                   'perpetrator':perp,'partof':partof})\n",
    "    table['url']=url\n",
    "    return table"
   ]
  },
  {
   "cell_type": "code",
   "execution_count": 112,
   "metadata": {},
   "outputs": [
    {
     "data": {
      "text/html": [
       "<div>\n",
       "<style scoped>\n",
       "    .dataframe tbody tr th:only-of-type {\n",
       "        vertical-align: middle;\n",
       "    }\n",
       "\n",
       "    .dataframe tbody tr th {\n",
       "        vertical-align: top;\n",
       "    }\n",
       "\n",
       "    .dataframe thead th {\n",
       "        text-align: right;\n",
       "    }\n",
       "</style>\n",
       "<table border=\"1\" class=\"dataframe\">\n",
       "  <thead>\n",
       "    <tr style=\"text-align: right;\">\n",
       "      <th></th>\n",
       "      <th>date</th>\n",
       "      <th>type</th>\n",
       "      <th>dead</th>\n",
       "      <th>injured</th>\n",
       "      <th>location</th>\n",
       "      <th>details</th>\n",
       "      <th>perpetrator</th>\n",
       "      <th>partof</th>\n",
       "    </tr>\n",
       "  </thead>\n",
       "  <tbody>\n",
       "    <tr>\n",
       "      <th>0</th>\n",
       "      <td>3</td>\n",
       "      <td>Mass shooting</td>\n",
       "      <td>22</td>\n",
       "      <td>24</td>\n",
       "      <td>El Paso, Texas, United States</td>\n",
       "      <td>2019 El Paso shooting: A mass shooting took pl...</td>\n",
       "      <td>Patrick Crusius</td>\n",
       "      <td>Terrorism in the United States</td>\n",
       "    </tr>\n",
       "    <tr>\n",
       "      <th>1</th>\n",
       "      <td>4</td>\n",
       "      <td>Bombing</td>\n",
       "      <td>20 (+1)</td>\n",
       "      <td>49</td>\n",
       "      <td>Cairo, Egypt</td>\n",
       "      <td>2019 Cairo bombing: An explosion following a c...</td>\n",
       "      <td>Hasm Movement (suspected)</td>\n",
       "      <td>Sinai insurgency</td>\n",
       "    </tr>\n",
       "    <tr>\n",
       "      <th>2</th>\n",
       "      <td>7</td>\n",
       "      <td>Suicide bombing</td>\n",
       "      <td>15 (+1)</td>\n",
       "      <td>140+</td>\n",
       "      <td>Kabul, Afghanistan</td>\n",
       "      <td>7 August 2019 Kabul bombing: At least 14 peopl...</td>\n",
       "      <td>Taliban</td>\n",
       "      <td>War in Afghanistan</td>\n",
       "    </tr>\n",
       "    <tr>\n",
       "      <th>3</th>\n",
       "      <td>10</td>\n",
       "      <td>Shooting</td>\n",
       "      <td>1</td>\n",
       "      <td>1 (+1)</td>\n",
       "      <td>Bærum, Norway</td>\n",
       "      <td>Bærum mosque shooting: A gunman opened fire on...</td>\n",
       "      <td>Philip Manshaus</td>\n",
       "      <td>Right-wing terrorism in Europe</td>\n",
       "    </tr>\n",
       "    <tr>\n",
       "      <th>4</th>\n",
       "      <td>17</td>\n",
       "      <td>Suicide bombing</td>\n",
       "      <td>92 (+1)</td>\n",
       "      <td>142</td>\n",
       "      <td>Kabul, Afghanistan</td>\n",
       "      <td>17 August 2019 Kabul bombing: A bomb exploded ...</td>\n",
       "      <td>Islamic State</td>\n",
       "      <td>War in Afghanistan</td>\n",
       "    </tr>\n",
       "    <tr>\n",
       "      <th>5</th>\n",
       "      <td>19</td>\n",
       "      <td>Bombing</td>\n",
       "      <td>0</td>\n",
       "      <td>0</td>\n",
       "      <td>Newtownbutler, United Kingdom</td>\n",
       "      <td>Newtownbutler bombing: A bomb exploded near th...</td>\n",
       "      <td>New IRA (suspected)</td>\n",
       "      <td>Dissident Irish Republican campaign</td>\n",
       "    </tr>\n",
       "  </tbody>\n",
       "</table>\n",
       "</div>"
      ],
      "text/plain": [
       "  date             type     dead injured                       location  \\\n",
       "0    3    Mass shooting       22      24  El Paso, Texas, United States   \n",
       "1    4          Bombing  20 (+1)      49                   Cairo, Egypt   \n",
       "2    7  Suicide bombing  15 (+1)    140+             Kabul, Afghanistan   \n",
       "3   10         Shooting        1  1 (+1)                  Bærum, Norway   \n",
       "4   17  Suicide bombing  92 (+1)     142             Kabul, Afghanistan   \n",
       "5   19          Bombing        0       0  Newtownbutler, United Kingdom   \n",
       "\n",
       "                                             details  \\\n",
       "0  2019 El Paso shooting: A mass shooting took pl...   \n",
       "1  2019 Cairo bombing: An explosion following a c...   \n",
       "2  7 August 2019 Kabul bombing: At least 14 peopl...   \n",
       "3  Bærum mosque shooting: A gunman opened fire on...   \n",
       "4  17 August 2019 Kabul bombing: A bomb exploded ...   \n",
       "5  Newtownbutler bombing: A bomb exploded near th...   \n",
       "\n",
       "                 perpetrator                               partof  \n",
       "0            Patrick Crusius       Terrorism in the United States  \n",
       "1  Hasm Movement (suspected)                     Sinai insurgency  \n",
       "2                    Taliban                   War in Afghanistan  \n",
       "3            Philip Manshaus       Right-wing terrorism in Europe  \n",
       "4              Islamic State                   War in Afghanistan  \n",
       "5        New IRA (suspected)  Dissident Irish Republican campaign  "
      ]
     },
     "execution_count": 112,
     "metadata": {},
     "output_type": "execute_result"
    }
   ],
   "source": [
    "get_data(\"https://en.wikipedia.org/wiki/List_of_terrorist_incidents_in_August_2019\")"
   ]
  },
  {
   "cell_type": "code",
   "execution_count": 113,
   "metadata": {},
   "outputs": [],
   "source": [
    "url=\"https://en.wikipedia.org/wiki/List_of_terrorist_incidents\"\n",
    "browser.get(url)"
   ]
  },
  {
   "cell_type": "code",
   "execution_count": 114,
   "metadata": {},
   "outputs": [],
   "source": [
    "html=browser.page_source\n",
    "soup=BeautifulSoup(html,'html.parser')"
   ]
  },
  {
   "cell_type": "code",
   "execution_count": 115,
   "metadata": {},
   "outputs": [],
   "source": [
    "links=soup.find_all(\"div\",class_=\"div-col columns column-width\")"
   ]
  },
  {
   "cell_type": "code",
   "execution_count": 116,
   "metadata": {},
   "outputs": [
    {
     "data": {
      "text/plain": [
       "2"
      ]
     },
     "execution_count": 116,
     "metadata": {},
     "output_type": "execute_result"
    }
   ],
   "source": [
    "len(links)"
   ]
  },
  {
   "cell_type": "code",
   "execution_count": 118,
   "metadata": {},
   "outputs": [],
   "source": [
    "all_links=links[0].find_all(\"li\")"
   ]
  },
  {
   "cell_type": "code",
   "execution_count": 121,
   "metadata": {},
   "outputs": [],
   "source": [
    "links=[]\n",
    "for i in all_links:\n",
    "    links.append(i.a.get('href'))"
   ]
  },
  {
   "cell_type": "code",
   "execution_count": 126,
   "metadata": {},
   "outputs": [
    {
     "data": {
      "text/plain": [
       "49    /wiki/List_of_terrorist_incidents_in_January_2015\n",
       "dtype: object"
      ]
     },
     "execution_count": 126,
     "metadata": {},
     "output_type": "execute_result"
    }
   ],
   "source": [
    "links[links==\"/wiki/List_of_terrorist_incidents_in_January_2015\"]"
   ]
  },
  {
   "cell_type": "code",
   "execution_count": 141,
   "metadata": {},
   "outputs": [
    {
     "name": "stderr",
     "output_type": "stream",
     "text": [
      "\n",
      "  0%|          | 0/58 [00:00<?, ?it/s]\u001b[A\n",
      "  2%|▏         | 1/58 [00:00<00:47,  1.19it/s]\u001b[A\n",
      "  3%|▎         | 2/58 [00:01<00:41,  1.34it/s]\u001b[A\n",
      "  5%|▌         | 3/58 [00:01<00:38,  1.42it/s]\u001b[A\n",
      "  7%|▋         | 4/58 [00:02<00:37,  1.44it/s]\u001b[A\n",
      "  9%|▊         | 5/58 [00:03<00:37,  1.43it/s]\u001b[A\n",
      " 10%|█         | 6/58 [00:03<00:34,  1.52it/s]\u001b[A\n",
      " 12%|█▏        | 7/58 [00:04<00:32,  1.56it/s]\u001b[A\n",
      " 14%|█▍        | 8/58 [00:05<00:31,  1.57it/s]\u001b[A\n",
      " 16%|█▌        | 9/58 [00:05<00:29,  1.69it/s]\u001b[A\n",
      " 17%|█▋        | 10/58 [00:06<00:28,  1.66it/s]\u001b[A\n",
      " 19%|█▉        | 11/58 [00:06<00:28,  1.65it/s]\u001b[A\n",
      " 21%|██        | 12/58 [00:07<00:33,  1.39it/s]\u001b[A\n",
      " 22%|██▏       | 13/58 [00:08<00:33,  1.33it/s]\u001b[A\n",
      " 24%|██▍       | 14/58 [00:09<00:32,  1.37it/s]\u001b[A\n",
      " 26%|██▌       | 15/58 [00:10<00:31,  1.36it/s]\u001b[A\n",
      " 28%|██▊       | 16/58 [00:11<00:33,  1.24it/s]\u001b[A\n",
      " 29%|██▉       | 17/58 [00:12<00:37,  1.09it/s]\u001b[A\n",
      " 31%|███       | 18/58 [00:13<00:37,  1.07it/s]\u001b[A\n",
      " 33%|███▎      | 19/58 [00:14<00:37,  1.03it/s]\u001b[A\n",
      " 34%|███▍      | 20/58 [00:15<00:36,  1.05it/s]\u001b[A\n",
      " 36%|███▌      | 21/58 [00:16<00:36,  1.00it/s]\u001b[A\n",
      " 38%|███▊      | 22/58 [00:17<00:35,  1.01it/s]\u001b[A\n",
      " 40%|███▉      | 23/58 [00:18<00:34,  1.03it/s]\u001b[A\n",
      " 41%|████▏     | 24/58 [00:19<00:31,  1.07it/s]\u001b[A\n",
      " 43%|████▎     | 25/58 [00:19<00:26,  1.25it/s]\u001b[A\n",
      " 45%|████▍     | 26/58 [00:20<00:24,  1.28it/s]\u001b[A\n",
      " 47%|████▋     | 27/58 [00:20<00:21,  1.42it/s]\u001b[A\n",
      " 48%|████▊     | 28/58 [00:21<00:19,  1.51it/s]\u001b[A\n",
      " 50%|█████     | 29/58 [00:21<00:18,  1.56it/s]\u001b[A\n",
      " 52%|█████▏    | 30/58 [00:22<00:17,  1.64it/s]\u001b[A\n",
      " 53%|█████▎    | 31/58 [00:23<00:15,  1.74it/s]\u001b[A\n",
      " 55%|█████▌    | 32/58 [00:23<00:14,  1.78it/s]\u001b[A\n",
      " 57%|█████▋    | 33/58 [00:23<00:13,  1.89it/s]\u001b[A\n",
      " 59%|█████▊    | 34/58 [00:24<00:15,  1.58it/s]\u001b[A\n",
      " 60%|██████    | 35/58 [00:25<00:13,  1.73it/s]\u001b[A\n",
      " 62%|██████▏   | 36/58 [00:25<00:11,  1.85it/s]\u001b[A\n",
      " 64%|██████▍   | 37/58 [00:26<00:13,  1.50it/s]\u001b[A\n",
      " 66%|██████▌   | 38/58 [00:27<00:15,  1.25it/s]\u001b[A\n",
      " 67%|██████▋   | 39/58 [00:29<00:22,  1.16s/it]\u001b[A\n",
      " 69%|██████▉   | 40/58 [00:30<00:19,  1.11s/it]\u001b[A\n",
      " 71%|███████   | 41/58 [00:31<00:18,  1.12s/it]\u001b[A\n",
      " 72%|███████▏  | 42/58 [00:33<00:19,  1.21s/it]\u001b[A\n",
      " 74%|███████▍  | 43/58 [00:34<00:19,  1.32s/it]\u001b[A\n",
      " 76%|███████▌  | 44/58 [00:36<00:17,  1.24s/it]\u001b[A\n",
      " 78%|███████▊  | 45/58 [00:37<00:16,  1.27s/it]\u001b[A\n",
      " 79%|███████▉  | 46/58 [00:39<00:18,  1.55s/it]\u001b[A\n",
      " 81%|████████  | 47/58 [00:42<00:20,  1.83s/it]\u001b[A\n",
      " 83%|████████▎ | 48/58 [00:43<00:18,  1.81s/it]\u001b[A\n",
      " 84%|████████▍ | 49/58 [00:44<00:12,  1.44s/it]\u001b[A\n",
      " 86%|████████▌ | 50/58 [00:44<00:09,  1.17s/it]\u001b[A\n",
      " 88%|████████▊ | 51/58 [00:45<00:06,  1.03it/s]\u001b[A\n",
      " 90%|████████▉ | 52/58 [00:45<00:05,  1.19it/s]\u001b[A\n",
      " 91%|█████████▏| 53/58 [00:46<00:03,  1.33it/s]\u001b[A\n",
      " 93%|█████████▎| 54/58 [00:47<00:02,  1.43it/s]\u001b[A\n",
      " 95%|█████████▍| 55/58 [00:47<00:02,  1.50it/s]\u001b[A\n",
      " 97%|█████████▋| 56/58 [00:48<00:01,  1.56it/s]\u001b[A\n",
      " 98%|█████████▊| 57/58 [00:48<00:00,  1.63it/s]\u001b[A\n",
      "100%|██████████| 58/58 [00:49<00:00,  1.71it/s]\u001b[A"
     ]
    }
   ],
   "source": [
    "from tqdm import tqdm\n",
    "tables=[]\n",
    "for l in tqdm(links.iloc[49:].tolist()):\n",
    "    base_url=\"https://en.wikipedia.org{}\"\n",
    "    url=base_url.format(l)\n",
    "    tables.append(get_data(url))"
   ]
  },
  {
   "cell_type": "code",
   "execution_count": 142,
   "metadata": {},
   "outputs": [],
   "source": [
    "big_table=pd.concat(tables,axis=0)"
   ]
  },
  {
   "cell_type": "code",
   "execution_count": 143,
   "metadata": {},
   "outputs": [
    {
     "data": {
      "text/html": [
       "<div>\n",
       "<style scoped>\n",
       "    .dataframe tbody tr th:only-of-type {\n",
       "        vertical-align: middle;\n",
       "    }\n",
       "\n",
       "    .dataframe tbody tr th {\n",
       "        vertical-align: top;\n",
       "    }\n",
       "\n",
       "    .dataframe thead th {\n",
       "        text-align: right;\n",
       "    }\n",
       "</style>\n",
       "<table border=\"1\" class=\"dataframe\">\n",
       "  <thead>\n",
       "    <tr style=\"text-align: right;\">\n",
       "      <th></th>\n",
       "      <th>date</th>\n",
       "      <th>type</th>\n",
       "      <th>dead</th>\n",
       "      <th>injured</th>\n",
       "      <th>location</th>\n",
       "      <th>details</th>\n",
       "      <th>perpetrator</th>\n",
       "      <th>partof</th>\n",
       "      <th>url</th>\n",
       "    </tr>\n",
       "  </thead>\n",
       "  <tbody>\n",
       "    <tr>\n",
       "      <th>0</th>\n",
       "      <td>1</td>\n",
       "      <td>Shooting</td>\n",
       "      <td>15–25+</td>\n",
       "      <td>10+</td>\n",
       "      <td>Waza Region, Cameroon</td>\n",
       "      <td>A group of militants attacked a crowded bus tr...</td>\n",
       "      <td>Boko Haram (suspected)</td>\n",
       "      <td>Boko Haram insurgency</td>\n",
       "      <td>https://en.wikipedia.org/wiki/List_of_terroris...</td>\n",
       "    </tr>\n",
       "    <tr>\n",
       "      <th>1</th>\n",
       "      <td>3</td>\n",
       "      <td>Attack</td>\n",
       "      <td>1</td>\n",
       "      <td>3</td>\n",
       "      <td>Maguindanao and Sultan Kudarat, Philippines</td>\n",
       "      <td>An undetermined number of Bangsamoro Islamic F...</td>\n",
       "      <td>BIFF</td>\n",
       "      <td>Moro conflict</td>\n",
       "      <td>https://en.wikipedia.org/wiki/List_of_terroris...</td>\n",
       "    </tr>\n",
       "    <tr>\n",
       "      <th>2</th>\n",
       "      <td>3</td>\n",
       "      <td>Shooting</td>\n",
       "      <td>3</td>\n",
       "      <td>2</td>\n",
       "      <td>Basra Governorate, Iraq</td>\n",
       "      <td>Shooting in Basra Governorate left 5 people de...</td>\n",
       "      <td>Unknown</td>\n",
       "      <td>Iraqi Civil War</td>\n",
       "      <td>https://en.wikipedia.org/wiki/List_of_terroris...</td>\n",
       "    </tr>\n",
       "    <tr>\n",
       "      <th>3</th>\n",
       "      <td>3</td>\n",
       "      <td>Melee attack</td>\n",
       "      <td>1</td>\n",
       "      <td>0</td>\n",
       "      <td>El Fahs, Tunisia</td>\n",
       "      <td>A Tunisian policeman was ambushed by a group o...</td>\n",
       "      <td>Islamist militants</td>\n",
       "      <td>Insurgency in the Maghreb</td>\n",
       "      <td>https://en.wikipedia.org/wiki/List_of_terroris...</td>\n",
       "    </tr>\n",
       "    <tr>\n",
       "      <th>4</th>\n",
       "      <td>3–7</td>\n",
       "      <td>Massacre</td>\n",
       "      <td>UnknownEst. 2000+</td>\n",
       "      <td>Unknown</td>\n",
       "      <td>Baga, Borno State, Nigeria</td>\n",
       "      <td>2015 Baga massacre: Boko Haram militants opene...</td>\n",
       "      <td>Boko Haram</td>\n",
       "      <td>Boko Haram insurgency</td>\n",
       "      <td>https://en.wikipedia.org/wiki/List_of_terroris...</td>\n",
       "    </tr>\n",
       "  </tbody>\n",
       "</table>\n",
       "</div>"
      ],
      "text/plain": [
       "  date          type               dead  injured  \\\n",
       "0    1      Shooting             15–25+      10+   \n",
       "1    3        Attack                  1        3   \n",
       "2    3      Shooting                  3        2   \n",
       "3    3  Melee attack                  1        0   \n",
       "4  3–7      Massacre  UnknownEst. 2000+  Unknown   \n",
       "\n",
       "                                      location  \\\n",
       "0                        Waza Region, Cameroon   \n",
       "1  Maguindanao and Sultan Kudarat, Philippines   \n",
       "2                      Basra Governorate, Iraq   \n",
       "3                             El Fahs, Tunisia   \n",
       "4                   Baga, Borno State, Nigeria   \n",
       "\n",
       "                                             details             perpetrator  \\\n",
       "0  A group of militants attacked a crowded bus tr...  Boko Haram (suspected)   \n",
       "1  An undetermined number of Bangsamoro Islamic F...                    BIFF   \n",
       "2  Shooting in Basra Governorate left 5 people de...                 Unknown   \n",
       "3  A Tunisian policeman was ambushed by a group o...      Islamist militants   \n",
       "4  2015 Baga massacre: Boko Haram militants opene...              Boko Haram   \n",
       "\n",
       "                      partof  \\\n",
       "0      Boko Haram insurgency   \n",
       "1              Moro conflict   \n",
       "2            Iraqi Civil War   \n",
       "3  Insurgency in the Maghreb   \n",
       "4      Boko Haram insurgency   \n",
       "\n",
       "                                                 url  \n",
       "0  https://en.wikipedia.org/wiki/List_of_terroris...  \n",
       "1  https://en.wikipedia.org/wiki/List_of_terroris...  \n",
       "2  https://en.wikipedia.org/wiki/List_of_terroris...  \n",
       "3  https://en.wikipedia.org/wiki/List_of_terroris...  \n",
       "4  https://en.wikipedia.org/wiki/List_of_terroris...  "
      ]
     },
     "execution_count": 143,
     "metadata": {},
     "output_type": "execute_result"
    }
   ],
   "source": [
    "big_table.head()"
   ]
  },
  {
   "cell_type": "code",
   "execution_count": 134,
   "metadata": {},
   "outputs": [],
   "source": [
    "### By country how many incidents\n",
    "### By country and month how many incidents\n",
    "### Average number of people who died + got injured"
   ]
  },
  {
   "cell_type": "code",
   "execution_count": 137,
   "metadata": {},
   "outputs": [
    {
     "data": {
      "text/plain": [
       " Iraq           787\n",
       " Afghanistan    575\n",
       "Name: location, dtype: int64"
      ]
     },
     "execution_count": 137,
     "metadata": {},
     "output_type": "execute_result"
    }
   ],
   "source": [
    "big_table['location'].map(lambda x: x.split(\",\")[-1]).value_counts().head(2)"
   ]
  },
  {
   "cell_type": "code",
   "execution_count": 150,
   "metadata": {},
   "outputs": [],
   "source": [
    "big_table['year']=big_table['url'].map(lambda x:x.split(\"_\")[-1])"
   ]
  },
  {
   "cell_type": "code",
   "execution_count": 153,
   "metadata": {},
   "outputs": [],
   "source": [
    "big_table['month']=big_table['url'].map(lambda x:x.split(\"_\")[-2])"
   ]
  },
  {
   "cell_type": "code",
   "execution_count": 157,
   "metadata": {},
   "outputs": [
    {
     "data": {
      "text/plain": [
       "0               15–25+\n",
       "1                    1\n",
       "2                    3\n",
       "3                    1\n",
       "4    UnknownEst. 2000+\n",
       "Name: dead, dtype: object"
      ]
     },
     "execution_count": 157,
     "metadata": {},
     "output_type": "execute_result"
    }
   ],
   "source": [
    "big_table['dead'].head()"
   ]
  },
  {
   "cell_type": "code",
   "execution_count": 158,
   "metadata": {},
   "outputs": [],
   "source": [
    "### create a regex that identifies a number which can be 1,2,3 or 4 digit\n",
    "import re\n",
    "pattern=re.compile(r'\\d{1,4}')"
   ]
  },
  {
   "cell_type": "code",
   "execution_count": 171,
   "metadata": {},
   "outputs": [],
   "source": [
    "import numpy as np\n",
    "def get_numbers(x):\n",
    "    r=re.findall(pattern,x)\n",
    "    if len(r)==0:\n",
    "        return np.nan\n",
    "    elif len(r)==2:\n",
    "        return float(r[0][0])\n",
    "    else:\n",
    "        return float(r[0])"
   ]
  },
  {
   "cell_type": "code",
   "execution_count": 174,
   "metadata": {},
   "outputs": [
    {
     "data": {
      "text/plain": [
       "12.19"
      ]
     },
     "execution_count": 174,
     "metadata": {},
     "output_type": "execute_result"
    }
   ],
   "source": [
    "big_table['injured'].map(get_numbers).mean().round(2)"
   ]
  },
  {
   "cell_type": "code",
   "execution_count": 176,
   "metadata": {},
   "outputs": [
    {
     "data": {
      "text/plain": [
       "6.46"
      ]
     },
     "execution_count": 176,
     "metadata": {},
     "output_type": "execute_result"
    }
   ],
   "source": [
    "big_table['dead'].map(get_numbers).mean().round(2)"
   ]
  },
  {
   "cell_type": "code",
   "execution_count": 177,
   "metadata": {},
   "outputs": [],
   "source": [
    "### Oyo rooms\n",
    "url=\"https://www.oyorooms.com/hotels-in-coimbatore/?page=1\"\n",
    "browser.get(url)"
   ]
  },
  {
   "cell_type": "code",
   "execution_count": 178,
   "metadata": {},
   "outputs": [],
   "source": [
    "html=browser.page_source"
   ]
  },
  {
   "cell_type": "code",
   "execution_count": 179,
   "metadata": {},
   "outputs": [],
   "source": [
    "soup=BeautifulSoup(html,'html.parser')"
   ]
  },
  {
   "cell_type": "code",
   "execution_count": 184,
   "metadata": {},
   "outputs": [
    {
     "data": {
      "text/plain": [
       "'OYO Townhouse 124 Srm Kuppakonam Pudur'"
      ]
     },
     "execution_count": 184,
     "metadata": {},
     "output_type": "execute_result"
    }
   ],
   "source": [
    "soup.find_all(\"div\",class_=\"listingHotelDescription__contentWrapper--left\")[0].a.h3.text"
   ]
  },
  {
   "cell_type": "code",
   "execution_count": 186,
   "metadata": {},
   "outputs": [],
   "source": [
    "name=[]\n",
    "for i in soup.find_all(\"div\",class_=\"listingHotelDescription__contentWrapper--left\"):\n",
    "    name.append(i.a.h3.text)"
   ]
  },
  {
   "cell_type": "code",
   "execution_count": 189,
   "metadata": {},
   "outputs": [
    {
     "data": {
      "text/plain": [
       "'Near Tatabad, Coimbatore'"
      ]
     },
     "execution_count": 189,
     "metadata": {},
     "output_type": "execute_result"
    }
   ],
   "source": [
    "soup.find_all(\"span\",attrs={'itemprop':'streetAddress'})[0].text"
   ]
  },
  {
   "cell_type": "code",
   "execution_count": 190,
   "metadata": {},
   "outputs": [
    {
     "data": {
      "text/plain": [
       "'Near Tatabad, Coimbatore'"
      ]
     },
     "execution_count": 190,
     "metadata": {},
     "output_type": "execute_result"
    }
   ],
   "source": [
    "soup.find_all(\"span\",attrs={'itemprop':'streetAddress'})[0]['title']"
   ]
  },
  {
   "cell_type": "code",
   "execution_count": 191,
   "metadata": {},
   "outputs": [
    {
     "data": {
      "text/plain": [
       "'Near Tatabad, Coimbatore'"
      ]
     },
     "execution_count": 191,
     "metadata": {},
     "output_type": "execute_result"
    }
   ],
   "source": [
    "soup.find_all(\"span\",attrs={'itemprop':'streetAddress'})[0].get('title')"
   ]
  },
  {
   "cell_type": "code",
   "execution_count": 193,
   "metadata": {},
   "outputs": [],
   "source": [
    "addr=[]\n",
    "for i in soup.find_all(\"span\",attrs={'itemprop':'streetAddress'}):\n",
    "    addr.append(i.get('title'))"
   ]
  },
  {
   "cell_type": "code",
   "execution_count": 196,
   "metadata": {},
   "outputs": [
    {
     "data": {
      "text/plain": [
       "'4.4'"
      ]
     },
     "execution_count": 196,
     "metadata": {},
     "output_type": "execute_result"
    }
   ],
   "source": [
    "soup.find_all(\"meta\",attrs={'itemprop':'ratingValue'})[0].get('content')"
   ]
  },
  {
   "cell_type": "code",
   "execution_count": 204,
   "metadata": {},
   "outputs": [],
   "source": [
    "rating=[]\n",
    "for i in soup.find_all(\"meta\",attrs={'itemprop':'ratingValue'}):\n",
    "    rating.append(i.get('content'))"
   ]
  },
  {
   "cell_type": "code",
   "execution_count": 207,
   "metadata": {},
   "outputs": [],
   "source": [
    "price=[]\n",
    "for i in soup.find_all(\"span\",class_=\"listingPrice__finalPrice\"):\n",
    "    price.append(i.text)"
   ]
  },
  {
   "cell_type": "code",
   "execution_count": 209,
   "metadata": {},
   "outputs": [],
   "source": [
    "table=pd.DataFrame({'name':name,'addr':addr,'rating':rating,'price':price})"
   ]
  },
  {
   "cell_type": "code",
   "execution_count": 210,
   "metadata": {},
   "outputs": [
    {
     "data": {
      "text/html": [
       "<div>\n",
       "<style scoped>\n",
       "    .dataframe tbody tr th:only-of-type {\n",
       "        vertical-align: middle;\n",
       "    }\n",
       "\n",
       "    .dataframe tbody tr th {\n",
       "        vertical-align: top;\n",
       "    }\n",
       "\n",
       "    .dataframe thead th {\n",
       "        text-align: right;\n",
       "    }\n",
       "</style>\n",
       "<table border=\"1\" class=\"dataframe\">\n",
       "  <thead>\n",
       "    <tr style=\"text-align: right;\">\n",
       "      <th></th>\n",
       "      <th>name</th>\n",
       "      <th>addr</th>\n",
       "      <th>rating</th>\n",
       "      <th>price</th>\n",
       "    </tr>\n",
       "  </thead>\n",
       "  <tbody>\n",
       "    <tr>\n",
       "      <th>0</th>\n",
       "      <td>OYO Townhouse 124 Srm Kuppakonam Pudur</td>\n",
       "      <td>Near Tatabad, Coimbatore</td>\n",
       "      <td>4.4</td>\n",
       "      <td>₹1394</td>\n",
       "    </tr>\n",
       "    <tr>\n",
       "      <th>1</th>\n",
       "      <td>SilverKey Executive Stays 18452 Pritam Airport...</td>\n",
       "      <td>Near Airport, Next To Back Gate Of PSG CAS, Pe...</td>\n",
       "      <td>4.3</td>\n",
       "      <td>₹1537</td>\n",
       "    </tr>\n",
       "  </tbody>\n",
       "</table>\n",
       "</div>"
      ],
      "text/plain": [
       "                                                name  \\\n",
       "0             OYO Townhouse 124 Srm Kuppakonam Pudur   \n",
       "1  SilverKey Executive Stays 18452 Pritam Airport...   \n",
       "\n",
       "                                                addr rating  price  \n",
       "0                           Near Tatabad, Coimbatore    4.4  ₹1394  \n",
       "1  Near Airport, Next To Back Gate Of PSG CAS, Pe...    4.3  ₹1537  "
      ]
     },
     "execution_count": 210,
     "metadata": {},
     "output_type": "execute_result"
    }
   ],
   "source": [
    "table.head(2)"
   ]
  },
  {
   "cell_type": "code",
   "execution_count": 211,
   "metadata": {},
   "outputs": [],
   "source": [
    "def get_data(url):\n",
    "    browser.get(url)\n",
    "    html=browser.page_source\n",
    "    soup=BeautifulSoup(html,'html.parser')\n",
    "    name=[]\n",
    "    for i in soup.find_all(\"div\",class_=\"listingHotelDescription__contentWrapper--left\"):\n",
    "        name.append(i.a.h3.text)\n",
    "    addr=[]\n",
    "    for i in soup.find_all(\"span\",attrs={'itemprop':'streetAddress'}):\n",
    "        addr.append(i.get('title'))\n",
    "    rating=[]\n",
    "    for i in soup.find_all(\"meta\",attrs={'itemprop':'ratingValue'}):\n",
    "        rating.append(i.get('content'))\n",
    "    price=[]\n",
    "    for i in soup.find_all(\"span\",class_=\"listingPrice__finalPrice\"):\n",
    "        price.append(i.text)\n",
    "    table=pd.DataFrame({'name':name,'addr':addr,'rating':rating,'price':price})\n",
    "    return table"
   ]
  },
  {
   "cell_type": "code",
   "execution_count": 214,
   "metadata": {},
   "outputs": [
    {
     "data": {
      "text/html": [
       "<div>\n",
       "<style scoped>\n",
       "    .dataframe tbody tr th:only-of-type {\n",
       "        vertical-align: middle;\n",
       "    }\n",
       "\n",
       "    .dataframe tbody tr th {\n",
       "        vertical-align: top;\n",
       "    }\n",
       "\n",
       "    .dataframe thead th {\n",
       "        text-align: right;\n",
       "    }\n",
       "</style>\n",
       "<table border=\"1\" class=\"dataframe\">\n",
       "  <thead>\n",
       "    <tr style=\"text-align: right;\">\n",
       "      <th></th>\n",
       "      <th>name</th>\n",
       "      <th>addr</th>\n",
       "      <th>rating</th>\n",
       "      <th>price</th>\n",
       "    </tr>\n",
       "  </thead>\n",
       "  <tbody>\n",
       "    <tr>\n",
       "      <th>0</th>\n",
       "      <td>OYO Townhouse 124 Srm Kuppakonam Pudur</td>\n",
       "      <td>Near Tatabad, Coimbatore</td>\n",
       "      <td>4.4</td>\n",
       "      <td>₹1394</td>\n",
       "    </tr>\n",
       "    <tr>\n",
       "      <th>1</th>\n",
       "      <td>SilverKey Executive Stays 18452 Pritam Airport...</td>\n",
       "      <td>Near Airport, Next To Back Gate Of PSG CAS, Pe...</td>\n",
       "      <td>4.3</td>\n",
       "      <td>₹1537</td>\n",
       "    </tr>\n",
       "    <tr>\n",
       "      <th>2</th>\n",
       "      <td>SilverKey Executive Stays 17281 Athithi Inn De...</td>\n",
       "      <td>Near Aathi Maaruthi, Vetri Vinayagar Nagar, Co...</td>\n",
       "      <td>4.3</td>\n",
       "      <td>₹775</td>\n",
       "    </tr>\n",
       "    <tr>\n",
       "      <th>3</th>\n",
       "      <td>OYO 28079 Global Stay</td>\n",
       "      <td>Near Singanallur Lake, Nanjappa Nagar, Coimbatore</td>\n",
       "      <td>3.9</td>\n",
       "      <td>₹1212</td>\n",
       "    </tr>\n",
       "    <tr>\n",
       "      <th>4</th>\n",
       "      <td>Capital O 48497 Raksha Grand</td>\n",
       "      <td>, Coimbatore</td>\n",
       "      <td>4.8</td>\n",
       "      <td>₹996</td>\n",
       "    </tr>\n",
       "    <tr>\n",
       "      <th>5</th>\n",
       "      <td>SilverKey Executive Stays 24155 FCI Nagar</td>\n",
       "      <td>Near Saravanampatti Check Post, Coimbatore</td>\n",
       "      <td>4.2</td>\n",
       "      <td>₹863</td>\n",
       "    </tr>\n",
       "    <tr>\n",
       "      <th>6</th>\n",
       "      <td>OYO 11669 Abrigo City Centre Gandhipuram</td>\n",
       "      <td>Near Gandhipuram Bus Stand, Coimbatore</td>\n",
       "      <td>3.9</td>\n",
       "      <td>₹1212</td>\n",
       "    </tr>\n",
       "    <tr>\n",
       "      <th>7</th>\n",
       "      <td>Capital O 14031 Vinayak In Deluxe</td>\n",
       "      <td>Near Railway Station, Geetha Hall Road, Coimba...</td>\n",
       "      <td>4.5</td>\n",
       "      <td>₹1780</td>\n",
       "    </tr>\n",
       "    <tr>\n",
       "      <th>8</th>\n",
       "      <td>OYO 37209 Fortune Apartment</td>\n",
       "      <td>Near Deccan pumps, Sakthy Main Road, Coimbatore</td>\n",
       "      <td>3.8</td>\n",
       "      <td>₹774</td>\n",
       "    </tr>\n",
       "    <tr>\n",
       "      <th>9</th>\n",
       "      <td>OYO 28428 Ruthira Residency</td>\n",
       "      <td>Near Tidel Park, Peelamedu, Coimbatore</td>\n",
       "      <td>4.6</td>\n",
       "      <td>₹1010</td>\n",
       "    </tr>\n",
       "    <tr>\n",
       "      <th>10</th>\n",
       "      <td>OYO Flagship 26714 Sri Balaji Castle</td>\n",
       "      <td>Near Vconnect Media, Coimbatore</td>\n",
       "      <td>4.1</td>\n",
       "      <td>₹673</td>\n",
       "    </tr>\n",
       "    <tr>\n",
       "      <th>11</th>\n",
       "      <td>OYO 12746 Hotel Sapthagiri Nest</td>\n",
       "      <td>Coimbatore, Coimbatore</td>\n",
       "      <td>4.3</td>\n",
       "      <td>₹781</td>\n",
       "    </tr>\n",
       "    <tr>\n",
       "      <th>12</th>\n",
       "      <td>Capital O 14406 Hotel Subashree</td>\n",
       "      <td>Ram Nagar, Coimbatore</td>\n",
       "      <td>4.3</td>\n",
       "      <td>₹1212</td>\n",
       "    </tr>\n",
       "    <tr>\n",
       "      <th>13</th>\n",
       "      <td>OYO 13858 Rithus Residency</td>\n",
       "      <td>Near JP Hospital, Coimbatore</td>\n",
       "      <td>3.6</td>\n",
       "      <td>₹976</td>\n",
       "    </tr>\n",
       "    <tr>\n",
       "      <th>14</th>\n",
       "      <td>OYO 30971 GM Grande</td>\n",
       "      <td>Near Karpagam University, Madukkarai market, C...</td>\n",
       "      <td>4.5</td>\n",
       "      <td>₹901</td>\n",
       "    </tr>\n",
       "    <tr>\n",
       "      <th>15</th>\n",
       "      <td>OYO Flagship 22529 Elegance Inn</td>\n",
       "      <td>Near Varadharaja Puram Main Road, Coimbatore</td>\n",
       "      <td>4.5</td>\n",
       "      <td>₹538</td>\n",
       "    </tr>\n",
       "    <tr>\n",
       "      <th>16</th>\n",
       "      <td>OYO 37217 Hotel Cresant Park</td>\n",
       "      <td>Near Airport, Coimbatore</td>\n",
       "      <td>4.2</td>\n",
       "      <td>₹1266</td>\n",
       "    </tr>\n",
       "    <tr>\n",
       "      <th>17</th>\n",
       "      <td>OYO 46276 Apple Inn</td>\n",
       "      <td>Lajapathrai Street, Ram Nagar, Coimbatore</td>\n",
       "      <td>4.3</td>\n",
       "      <td>₹1010</td>\n",
       "    </tr>\n",
       "    <tr>\n",
       "      <th>18</th>\n",
       "      <td>Collection O 31042 Sunil Residency Balaji Nagar</td>\n",
       "      <td>Near Balaji Nagar, Coimbatore</td>\n",
       "      <td>4.1</td>\n",
       "      <td>₹623</td>\n",
       "    </tr>\n",
       "    <tr>\n",
       "      <th>19</th>\n",
       "      <td>Capital O 46064 Midland Residency Suite</td>\n",
       "      <td>Perur Main Rd, Telungupalayam Privu, Coimbatore</td>\n",
       "      <td>4.9</td>\n",
       "      <td>₹1951</td>\n",
       "    </tr>\n",
       "  </tbody>\n",
       "</table>\n",
       "</div>"
      ],
      "text/plain": [
       "                                                 name  \\\n",
       "0              OYO Townhouse 124 Srm Kuppakonam Pudur   \n",
       "1   SilverKey Executive Stays 18452 Pritam Airport...   \n",
       "2   SilverKey Executive Stays 17281 Athithi Inn De...   \n",
       "3                               OYO 28079 Global Stay   \n",
       "4                        Capital O 48497 Raksha Grand   \n",
       "5           SilverKey Executive Stays 24155 FCI Nagar   \n",
       "6            OYO 11669 Abrigo City Centre Gandhipuram   \n",
       "7                   Capital O 14031 Vinayak In Deluxe   \n",
       "8                         OYO 37209 Fortune Apartment   \n",
       "9                         OYO 28428 Ruthira Residency   \n",
       "10               OYO Flagship 26714 Sri Balaji Castle   \n",
       "11                    OYO 12746 Hotel Sapthagiri Nest   \n",
       "12                    Capital O 14406 Hotel Subashree   \n",
       "13                         OYO 13858 Rithus Residency   \n",
       "14                                OYO 30971 GM Grande   \n",
       "15                    OYO Flagship 22529 Elegance Inn   \n",
       "16                       OYO 37217 Hotel Cresant Park   \n",
       "17                                OYO 46276 Apple Inn   \n",
       "18    Collection O 31042 Sunil Residency Balaji Nagar   \n",
       "19            Capital O 46064 Midland Residency Suite   \n",
       "\n",
       "                                                 addr rating  price  \n",
       "0                            Near Tatabad, Coimbatore    4.4  ₹1394  \n",
       "1   Near Airport, Next To Back Gate Of PSG CAS, Pe...    4.3  ₹1537  \n",
       "2   Near Aathi Maaruthi, Vetri Vinayagar Nagar, Co...    4.3   ₹775  \n",
       "3   Near Singanallur Lake, Nanjappa Nagar, Coimbatore    3.9  ₹1212  \n",
       "4                                        , Coimbatore    4.8   ₹996  \n",
       "5          Near Saravanampatti Check Post, Coimbatore    4.2   ₹863  \n",
       "6              Near Gandhipuram Bus Stand, Coimbatore    3.9  ₹1212  \n",
       "7   Near Railway Station, Geetha Hall Road, Coimba...    4.5  ₹1780  \n",
       "8     Near Deccan pumps, Sakthy Main Road, Coimbatore    3.8   ₹774  \n",
       "9              Near Tidel Park, Peelamedu, Coimbatore    4.6  ₹1010  \n",
       "10                    Near Vconnect Media, Coimbatore    4.1   ₹673  \n",
       "11                             Coimbatore, Coimbatore    4.3   ₹781  \n",
       "12                              Ram Nagar, Coimbatore    4.3  ₹1212  \n",
       "13                       Near JP Hospital, Coimbatore    3.6   ₹976  \n",
       "14  Near Karpagam University, Madukkarai market, C...    4.5   ₹901  \n",
       "15       Near Varadharaja Puram Main Road, Coimbatore    4.5   ₹538  \n",
       "16                           Near Airport, Coimbatore    4.2  ₹1266  \n",
       "17          Lajapathrai Street, Ram Nagar, Coimbatore    4.3  ₹1010  \n",
       "18                      Near Balaji Nagar, Coimbatore    4.1   ₹623  \n",
       "19    Perur Main Rd, Telungupalayam Privu, Coimbatore    4.9  ₹1951  "
      ]
     },
     "execution_count": 214,
     "metadata": {},
     "output_type": "execute_result"
    }
   ],
   "source": [
    "get_data(\"https://www.oyorooms.com/hotels-in-coimbatore/?page=1\")"
   ]
  },
  {
   "cell_type": "code",
   "execution_count": null,
   "metadata": {},
   "outputs": [],
   "source": []
  }
 ],
 "metadata": {
  "kernelspec": {
   "display_name": "Python 3",
   "language": "python",
   "name": "python3"
  },
  "language_info": {
   "codemirror_mode": {
    "name": "ipython",
    "version": 3
   },
   "file_extension": ".py",
   "mimetype": "text/x-python",
   "name": "python",
   "nbconvert_exporter": "python",
   "pygments_lexer": "ipython3",
   "version": "3.7.3"
  }
 },
 "nbformat": 4,
 "nbformat_minor": 2
}

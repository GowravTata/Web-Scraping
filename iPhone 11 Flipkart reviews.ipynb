{
 "cells": [
  {
   "cell_type": "code",
   "execution_count": 1,
   "metadata": {},
   "outputs": [],
   "source": [
    "import pandas as pd\n",
    "from bs4 import BeautifulSoup\n",
    "from selenium import webdriver\n",
    "import requests"
   ]
  },
  {
   "cell_type": "code",
   "execution_count": 2,
   "metadata": {},
   "outputs": [],
   "source": [
    "url = 'https://www.flipkart.com/apple-iphone-11-purple-64-gb-includes-earpods-power-adapter/p/itm0bc87f7f6d418?pid=MOBFKCTSBUSRZTQC&lid=LSTMOBFKCTSBUSRZTQCUVCBLN&marketplace=FLIPKART&srno=s_1_1&otracker=search&otracker1=search&fm=SEARCH&iid=2cfd1a40-35df-4931-b8cd-c852a55610d6.MOBFKCTSBUSRZTQC.SEARCH&ppt=sp&ppn=sp&ssid=ebw1krghv40000001608112562884&qH=f6cdfdaa9f3c23f3'"
   ]
  },
  {
   "cell_type": "code",
   "execution_count": 3,
   "metadata": {},
   "outputs": [],
   "source": [
    "browser = webdriver.Firefox()\n",
    "browser.get(url)\n",
    "html = browser.page_source\n",
    "soup  = BeautifulSoup(html,'html.parser')"
   ]
  },
  {
   "cell_type": "code",
   "execution_count": 4,
   "metadata": {},
   "outputs": [
    {
     "name": "stdout",
     "output_type": "stream",
     "text": [
      "['Perfect product!', 'Great product', 'Perfect product!', 'Highly recommended', 'Perfect product!', 'Worth every penny', 'Worth every penny', 'Perfect product!', 'Nice product', 'Wonderful']\n"
     ]
    }
   ],
   "source": [
    "# One word\n",
    "title = []\n",
    "for i in soup.find_all('p',class_='_2-N8zT'):\n",
    "    title.append(i.text.strip())\n",
    "print(title)"
   ]
  },
  {
   "cell_type": "code",
   "execution_count": 5,
   "metadata": {
    "scrolled": true
   },
   "outputs": [
    {
     "name": "stdout",
     "output_type": "stream",
     "text": [
      "['5', '5', '5', '5', '5', '5', '5', '5', '4', '5']\n",
      "10\n"
     ]
    },
    {
     "data": {
      "text/plain": [
       "(None, None)"
      ]
     },
     "execution_count": 5,
     "metadata": {},
     "output_type": "execute_result"
    }
   ],
   "source": [
    "# Rating\n",
    "rating=[]\n",
    "for i in soup.find_all('div',class_='_3LWZlK _1BLPMq'):\n",
    "    rating.append(i.text.strip())\n",
    "print(rating),print(len(rating))"
   ]
  },
  {
   "cell_type": "code",
   "execution_count": 6,
   "metadata": {
    "scrolled": false
   },
   "outputs": [
    {
     "name": "stdout",
     "output_type": "stream",
     "text": [
      "['Amazing phone with great cameras and better battery which gives you the best performance. I just love the camera .READ MORE', 'Amazing Powerful and Durable Gadget.I’m am very happy with the camera picture quality, Amazing face id unlocked in dark room, Strong battery with perfect screen size as you can carry easily in pocket. This is my third iPhone. I shifted from android Samsung Note series to iPhone because of the strong build quality and peace of mind for next 3-4 years.Don’t think to much just go for it and I suggest you to go for minimum 128gb variant or more 256gb. I’ve attached my puppy pics and no fi...READ MORE', 'It’s a must buy who is looking for an upgrade from previous generation of iPhones. If you are using XR then still you can hold on for sometime and upgrade to 2020 model else this phone is a must buy . Camera quality is amazing and wide angle is something to count upon. Performance wise it’s amazing and feels premium while holding in hand. So a big YES for this device. Go for 128 GB variant as the 4K videos will occupy lots of space and the storage can get over very quickly. Try to buy it with...READ MORE', 'iphone 11 is a very good phone to buy only if you can compromise for the display. The display on this is device is pretty good but you can get other options with better displays in this price segment.If you can survive with an HD+ LCD panel with thicker bezels and a notch up top then this is a very good phone for you.Cameras are awesome, battery backup excellent, great performance and a decent premium look. Good job Apple !READ MORE', 'Value for money❤️❤️Its awesome mobile phone in the world ...Display was very good and bright ..Trust me freinds you r never regret after Buying..Just go for it....I love this phone and i switch to iphone x to 11READ MORE', 'Best budget Iphone till date ❤️ go for it guys without second thought. Let me explain you guys about Camera, Display, battery, and performance. Camera: at this price range there is no comparison of camera, you’ll love the picture quality as well as video quality. I am a Vlogger I wanted an iPhone with 4k video by front camera and I got this phone and I am more than happy 😃 Battery: I use this phone roughly as I am active social media person and I have a youtube channel. so the battery ba...READ MORE', 'It’s been almost a month since I have been using this phone. I upgraded from an iPhone 8. The main issue with my 8 was battery and this phone is just awesome when it comes to battery. It lasts a day and a half for me with my regular use , internet connected always with 4g Can’t move forward without saying this. Battery of this phone is a life saver when I am traveling or at work when I don’t get the option to charge Camera is superb. Front cam selfies and back cam photos are just awesome. ...READ MORE', \"Iphone is just awesome.. battery backup is very very nice.. continuously for 10 hours we can use it.camera is just awesome.. display is just fab.i love it alot..i had to wait 15 days for it as i pre ordered it..overalll it's worth the price..these all images are clicked by my iPhone..and i love it.READ MORE\", 'Awesome Phone. Slightly high price but worth. Better than iPhone XR. Camera is superb and wide angle camera is very clear. 12MP selfie camera is also very good. A13 Chip gives a very good and smooth performance.READ MORE', '*Review after 10 months of usage*Doesn\\'t seem bulky with decent touch and camera. The \"standard maintained\" quality of IPhone. Go for it, if your budget is not more enough for pro models. It\\'s a value for money among the 11 series Stereo speakers are so good, you will love the stereo sound. Battery backup is not decent but still better than Iphone 7 and 8.Processor is fast, the phone doesn\\'t lag at all even with heavy games, waterproof, faster face id and with no fingerprint scanners. The ca...READ MORE']\n"
     ]
    }
   ],
   "source": [
    "# Comments\n",
    "comments=[]\n",
    "for i in soup.find_all('div',class_='t-ZTKy'):\n",
    "    comments.append(i.text.strip())\n",
    "print(comments)"
   ]
  },
  {
   "cell_type": "code",
   "execution_count": 7,
   "metadata": {},
   "outputs": [
    {
     "name": "stdout",
     "output_type": "stream",
     "text": [
      "100 100 100\n"
     ]
    }
   ],
   "source": [
    "comment=[]\n",
    "rating=[]\n",
    "likes=[]\n",
    "title = []\n",
    "dislikes = []\n",
    "for i in range(11):\n",
    "    path='https://www.flipkart.com/apple-iphone-11-purple-64-gb-includes-earpods-power-adapter/product-reviews/itm0bc87f7f6d418?pid=MOBFKCTSBUSRZTQC&lid=LSTMOBFKCTSBUSRZTQCUVCBLN&marketplace=FLIPKART&page={}'.format(i)\n",
    "    r=requests.get(path)\n",
    "    soup=BeautifulSoup(r.content)\n",
    "    for i in soup.find_all('div',class_='_3LWZlK _1BLPMq'):\n",
    "        rating.append(i.text.strip())\n",
    "    for i in soup.find_all('div',class_='_3LWZlK _1rdVr6 _1BLPMq'):\n",
    "        rating.append(i.text.strip())\n",
    "    for i in soup.find_all('div',class_='t-ZTKy'):\n",
    "        comment.append(i.text.strip())\n",
    "    for i in soup.find_all('p',class_='_2-N8zT'):\n",
    "        title.append(i.text.strip())\n",
    "print(len(comment),len(title),len(rating))"
   ]
  },
  {
   "cell_type": "code",
   "execution_count": 10,
   "metadata": {
    "scrolled": true
   },
   "outputs": [
    {
     "data": {
      "text/html": [
       "<div>\n",
       "<style scoped>\n",
       "    .dataframe tbody tr th:only-of-type {\n",
       "        vertical-align: middle;\n",
       "    }\n",
       "\n",
       "    .dataframe tbody tr th {\n",
       "        vertical-align: top;\n",
       "    }\n",
       "\n",
       "    .dataframe thead th {\n",
       "        text-align: right;\n",
       "    }\n",
       "</style>\n",
       "<table border=\"1\" class=\"dataframe\">\n",
       "  <thead>\n",
       "    <tr style=\"text-align: right;\">\n",
       "      <th></th>\n",
       "      <th>Title</th>\n",
       "      <th>Rating</th>\n",
       "      <th>Review</th>\n",
       "    </tr>\n",
       "  </thead>\n",
       "  <tbody>\n",
       "    <tr>\n",
       "      <th>0</th>\n",
       "      <td>Perfect product!</td>\n",
       "      <td>5</td>\n",
       "      <td>Amazing phone with great cameras and better ba...</td>\n",
       "    </tr>\n",
       "    <tr>\n",
       "      <th>1</th>\n",
       "      <td>Great product</td>\n",
       "      <td>5</td>\n",
       "      <td>Amazing Powerful and Durable Gadget.I’m am ver...</td>\n",
       "    </tr>\n",
       "    <tr>\n",
       "      <th>2</th>\n",
       "      <td>Perfect product!</td>\n",
       "      <td>5</td>\n",
       "      <td>It’s a must buy who is looking for an upgrade ...</td>\n",
       "    </tr>\n",
       "    <tr>\n",
       "      <th>3</th>\n",
       "      <td>Highly recommended</td>\n",
       "      <td>5</td>\n",
       "      <td>iphone 11 is a very good phone to buy only if ...</td>\n",
       "    </tr>\n",
       "    <tr>\n",
       "      <th>4</th>\n",
       "      <td>Perfect product!</td>\n",
       "      <td>5</td>\n",
       "      <td>Value for money❤️❤️Its awesome mobile phone in...</td>\n",
       "    </tr>\n",
       "    <tr>\n",
       "      <th>...</th>\n",
       "      <td>...</td>\n",
       "      <td>...</td>\n",
       "      <td>...</td>\n",
       "    </tr>\n",
       "    <tr>\n",
       "      <th>95</th>\n",
       "      <td>Nice</td>\n",
       "      <td>3</td>\n",
       "      <td>Iphone 11 black 64gb is really a cool phone 1....</td>\n",
       "    </tr>\n",
       "    <tr>\n",
       "      <th>96</th>\n",
       "      <td>Nice</td>\n",
       "      <td>3</td>\n",
       "      <td>Although it’s an iPhone, it doesn’t give anyth...</td>\n",
       "    </tr>\n",
       "    <tr>\n",
       "      <th>97</th>\n",
       "      <td>Just wow!</td>\n",
       "      <td>5</td>\n",
       "      <td>Apple i Phone is the best phone available in t...</td>\n",
       "    </tr>\n",
       "    <tr>\n",
       "      <th>98</th>\n",
       "      <td>Brilliant</td>\n",
       "      <td>5</td>\n",
       "      <td>use outside gives a outstanding experience ......</td>\n",
       "    </tr>\n",
       "    <tr>\n",
       "      <th>99</th>\n",
       "      <td>Delightful</td>\n",
       "      <td>4</td>\n",
       "      <td>Just the display held it from being a 5star ph...</td>\n",
       "    </tr>\n",
       "  </tbody>\n",
       "</table>\n",
       "<p>100 rows × 3 columns</p>\n",
       "</div>"
      ],
      "text/plain": [
       "                 Title Rating  \\\n",
       "0     Perfect product!      5   \n",
       "1        Great product      5   \n",
       "2     Perfect product!      5   \n",
       "3   Highly recommended      5   \n",
       "4     Perfect product!      5   \n",
       "..                 ...    ...   \n",
       "95                Nice      3   \n",
       "96                Nice      3   \n",
       "97           Just wow!      5   \n",
       "98           Brilliant      5   \n",
       "99          Delightful      4   \n",
       "\n",
       "                                               Review  \n",
       "0   Amazing phone with great cameras and better ba...  \n",
       "1   Amazing Powerful and Durable Gadget.I’m am ver...  \n",
       "2   It’s a must buy who is looking for an upgrade ...  \n",
       "3   iphone 11 is a very good phone to buy only if ...  \n",
       "4   Value for money❤️❤️Its awesome mobile phone in...  \n",
       "..                                                ...  \n",
       "95  Iphone 11 black 64gb is really a cool phone 1....  \n",
       "96  Although it’s an iPhone, it doesn’t give anyth...  \n",
       "97  Apple i Phone is the best phone available in t...  \n",
       "98  use outside gives a outstanding experience ......  \n",
       "99  Just the display held it from being a 5star ph...  \n",
       "\n",
       "[100 rows x 3 columns]"
      ]
     },
     "execution_count": 10,
     "metadata": {},
     "output_type": "execute_result"
    }
   ],
   "source": [
    "data = pd.DataFrame({'Title':title,'Rating':rating,'Review':comment})\n",
    "data"
   ]
  },
  {
   "cell_type": "code",
   "execution_count": null,
   "metadata": {},
   "outputs": [],
   "source": []
  }
 ],
 "metadata": {
  "kernelspec": {
   "display_name": "Python 3",
   "language": "python",
   "name": "python3"
  },
  "language_info": {
   "codemirror_mode": {
    "name": "ipython",
    "version": 3
   },
   "file_extension": ".py",
   "mimetype": "text/x-python",
   "name": "python",
   "nbconvert_exporter": "python",
   "pygments_lexer": "ipython3",
   "version": "3.8.3"
  }
 },
 "nbformat": 4,
 "nbformat_minor": 4
}

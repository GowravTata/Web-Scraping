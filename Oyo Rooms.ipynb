{
 "cells": [
  {
   "cell_type": "code",
   "execution_count": 57,
   "metadata": {},
   "outputs": [],
   "source": [
    "### Alternative approach to oyorooms\n",
    "url=\"https://www.oyorooms.com/hotels-in-coimbatore/?page=4\"\n",
    "from selenium import webdriver\n",
    "from bs4 import BeautifulSoup\n",
    "import pandas as pd\n",
    "import numpy as np\n",
    "browser=webdriver.Firefox()"
   ]
  },
  {
   "cell_type": "code",
   "execution_count": 2,
   "metadata": {},
   "outputs": [],
   "source": [
    "browser.get(url)\n",
    "html=browser.page_source\n",
    "soup=BeautifulSoup(html,'html.parser')"
   ]
  },
  {
   "cell_type": "code",
   "execution_count": 3,
   "metadata": {},
   "outputs": [],
   "source": [
    "listings=soup.find_all(\"div\",class_=\"hotelCardListing__descriptionWrapper\")"
   ]
  },
  {
   "cell_type": "code",
   "execution_count": 4,
   "metadata": {},
   "outputs": [
    {
     "data": {
      "text/plain": [
       "10"
      ]
     },
     "execution_count": 4,
     "metadata": {},
     "output_type": "execute_result"
    }
   ],
   "source": [
    "len(listings)"
   ]
  },
  {
   "cell_type": "code",
   "execution_count": 6,
   "metadata": {},
   "outputs": [
    {
     "data": {
      "text/plain": [
       "[]"
      ]
     },
     "execution_count": 6,
     "metadata": {},
     "output_type": "execute_result"
    }
   ],
   "source": [
    "listings[-1].find_all(\"span\",class_=\"listingPrice__finalPrice\")"
   ]
  },
  {
   "cell_type": "code",
   "execution_count": 16,
   "metadata": {},
   "outputs": [],
   "source": [
    "### logic for all:\n",
    "title=[]\n",
    "addr=[]\n",
    "rating=[]\n",
    "price=[]\n",
    "for listing in listings:\n",
    "    t=listing.find_all(\"h3\",attrs={'itemprop':'name'})\n",
    "    if len(t)!=0:\n",
    "        title.append(t[0].text)\n",
    "    else:\n",
    "        title.append(\"Not Found\")\n",
    "    a=listing.find_all(\"span\",attrs={'itemprop':'streetAddress'})\n",
    "    if len(a)!=0:\n",
    "        addr.append(a[0].text)\n",
    "    else:\n",
    "        addr.append(\"Not found\")\n",
    "    r=listing.find_all(\"meta\",attrs={'itemprop':'ratingValue'})\n",
    "    if len(r)!=0:\n",
    "        rating.append(r[0].get('content'))\n",
    "    else:\n",
    "        rating.append(\"Not found\")\n",
    "    p=listing.find_all(\"span\",class_=\"listingPrice__finalPrice\")\n",
    "    if len(p)!=0:\n",
    "        price.append(p[0].text)\n",
    "    else:\n",
    "        price.append(\"Not found\")"
   ]
  },
  {
   "cell_type": "code",
   "execution_count": 17,
   "metadata": {},
   "outputs": [],
   "source": [
    "table=pd.DataFrame({'title':title,'addr':addr,'rating':rating,'price':price})"
   ]
  },
  {
   "cell_type": "code",
   "execution_count": 18,
   "metadata": {},
   "outputs": [],
   "source": [
    "def get_data(url):\n",
    "    browser.get(url)\n",
    "    html=browser.page_source\n",
    "    soup=BeautifulSoup(html,'html.parser')\n",
    "    listings=soup.find_all(\"div\",class_=\"hotelCardListing__descriptionWrapper\")\n",
    "    title=[]\n",
    "    addr=[]\n",
    "    rating=[]\n",
    "    price=[]\n",
    "    for listing in listings:\n",
    "        t=listing.find_all(\"h3\",attrs={'itemprop':'name'})\n",
    "        if len(t)!=0:\n",
    "            title.append(t[0].text)\n",
    "        else:\n",
    "            title.append(\"Not Found\")\n",
    "        a=listing.find_all(\"span\",attrs={'itemprop':'streetAddress'})\n",
    "        if len(a)!=0:\n",
    "            addr.append(a[0].text)\n",
    "        else:\n",
    "            addr.append(\"Not found\")\n",
    "        r=listing.find_all(\"meta\",attrs={'itemprop':'ratingValue'})\n",
    "        if len(r)!=0:\n",
    "            rating.append(r[0].get('content'))\n",
    "        else:\n",
    "            rating.append(\"Not found\")\n",
    "        p=listing.find_all(\"span\",class_=\"listingPrice__finalPrice\")\n",
    "        if len(p)!=0:\n",
    "            price.append(p[0].text)\n",
    "        else:\n",
    "            price.append(\"Not found\")\n",
    "    table=pd.DataFrame({'title':title,'addr':addr,'rating':rating,'price':price})\n",
    "    return table\n",
    "        "
   ]
  },
  {
   "cell_type": "code",
   "execution_count": 19,
   "metadata": {},
   "outputs": [
    {
     "data": {
      "text/html": [
       "<div>\n",
       "<style scoped>\n",
       "    .dataframe tbody tr th:only-of-type {\n",
       "        vertical-align: middle;\n",
       "    }\n",
       "\n",
       "    .dataframe tbody tr th {\n",
       "        vertical-align: top;\n",
       "    }\n",
       "\n",
       "    .dataframe thead th {\n",
       "        text-align: right;\n",
       "    }\n",
       "</style>\n",
       "<table border=\"1\" class=\"dataframe\">\n",
       "  <thead>\n",
       "    <tr style=\"text-align: right;\">\n",
       "      <th></th>\n",
       "      <th>title</th>\n",
       "      <th>addr</th>\n",
       "      <th>rating</th>\n",
       "      <th>price</th>\n",
       "    </tr>\n",
       "  </thead>\n",
       "  <tbody>\n",
       "    <tr>\n",
       "      <th>0</th>\n",
       "      <td>OYO 28223 Sri Sharu Enclave</td>\n",
       "      <td>Near VR Hospital, Vilankurichi Road, Coimbatore</td>\n",
       "      <td>3.9</td>\n",
       "      <td>₹774</td>\n",
       "    </tr>\n",
       "    <tr>\n",
       "      <th>1</th>\n",
       "      <td>OYO 43978 Nini Residency</td>\n",
       "      <td>GKD Nagar, Nehru Nagar West, Coimbatore</td>\n",
       "      <td>4.4</td>\n",
       "      <td>₹718</td>\n",
       "    </tr>\n",
       "    <tr>\n",
       "      <th>2</th>\n",
       "      <td>OYO 45806 Sri Sakthi Vinayagar Residency  Deluxe</td>\n",
       "      <td>Near  SLV Nagar, Sulur, Tamil Nadu</td>\n",
       "      <td>3.9</td>\n",
       "      <td>₹895</td>\n",
       "    </tr>\n",
       "    <tr>\n",
       "      <th>3</th>\n",
       "      <td>OYO 25080 Vivekam Home Stay Deluxe</td>\n",
       "      <td>Udayampalayam, Coimbatore</td>\n",
       "      <td>4.5</td>\n",
       "      <td>₹836</td>\n",
       "    </tr>\n",
       "    <tr>\n",
       "      <th>4</th>\n",
       "      <td>OYO 18954 Varun Residency Deluxe</td>\n",
       "      <td>Nehru Nagar,Civil Aerodrome, Coimbatore</td>\n",
       "      <td>4.1</td>\n",
       "      <td>₹960</td>\n",
       "    </tr>\n",
       "    <tr>\n",
       "      <th>5</th>\n",
       "      <td>SilverKey Executive Stays 20012 Saravanampatti</td>\n",
       "      <td>Near keeranatham, Saravanamapatti, Coimbatore</td>\n",
       "      <td>4.4</td>\n",
       "      <td>₹970</td>\n",
       "    </tr>\n",
       "    <tr>\n",
       "      <th>6</th>\n",
       "      <td>OYO 24354 Tulip Nest</td>\n",
       "      <td>Near Kurinji Garden, Coimbatore</td>\n",
       "      <td>4.4</td>\n",
       "      <td>₹814</td>\n",
       "    </tr>\n",
       "    <tr>\n",
       "      <th>7</th>\n",
       "      <td>OYO 11333 MS Grand Inn</td>\n",
       "      <td>Near Gandhipuram Main Bustand, Coimbatore</td>\n",
       "      <td>3.8</td>\n",
       "      <td>Not found</td>\n",
       "    </tr>\n",
       "    <tr>\n",
       "      <th>8</th>\n",
       "      <td>OYO 45997 Gsn Residency Saver</td>\n",
       "      <td>Near Skoda showroom, Coimbatore</td>\n",
       "      <td>4.3</td>\n",
       "      <td>Not found</td>\n",
       "    </tr>\n",
       "    <tr>\n",
       "      <th>9</th>\n",
       "      <td>OYO 37217 Hotel Cresant Park</td>\n",
       "      <td>Near Airport, Coimbatore</td>\n",
       "      <td>4.2</td>\n",
       "      <td>Not found</td>\n",
       "    </tr>\n",
       "  </tbody>\n",
       "</table>\n",
       "</div>"
      ],
      "text/plain": [
       "                                              title  \\\n",
       "0                       OYO 28223 Sri Sharu Enclave   \n",
       "1                          OYO 43978 Nini Residency   \n",
       "2  OYO 45806 Sri Sakthi Vinayagar Residency  Deluxe   \n",
       "3                OYO 25080 Vivekam Home Stay Deluxe   \n",
       "4                  OYO 18954 Varun Residency Deluxe   \n",
       "5    SilverKey Executive Stays 20012 Saravanampatti   \n",
       "6                              OYO 24354 Tulip Nest   \n",
       "7                            OYO 11333 MS Grand Inn   \n",
       "8                     OYO 45997 Gsn Residency Saver   \n",
       "9                      OYO 37217 Hotel Cresant Park   \n",
       "\n",
       "                                              addr rating      price  \n",
       "0  Near VR Hospital, Vilankurichi Road, Coimbatore    3.9       ₹774  \n",
       "1          GKD Nagar, Nehru Nagar West, Coimbatore    4.4       ₹718  \n",
       "2               Near  SLV Nagar, Sulur, Tamil Nadu    3.9       ₹895  \n",
       "3                        Udayampalayam, Coimbatore    4.5       ₹836  \n",
       "4          Nehru Nagar,Civil Aerodrome, Coimbatore    4.1       ₹960  \n",
       "5    Near keeranatham, Saravanamapatti, Coimbatore    4.4       ₹970  \n",
       "6                  Near Kurinji Garden, Coimbatore    4.4       ₹814  \n",
       "7        Near Gandhipuram Main Bustand, Coimbatore    3.8  Not found  \n",
       "8                  Near Skoda showroom, Coimbatore    4.3  Not found  \n",
       "9                         Near Airport, Coimbatore    4.2  Not found  "
      ]
     },
     "execution_count": 19,
     "metadata": {},
     "output_type": "execute_result"
    }
   ],
   "source": [
    "url=\"https://www.oyorooms.com/hotels-in-coimbatore/?page=4\"\n",
    "get_data(url)"
   ]
  },
  {
   "cell_type": "code",
   "execution_count": 20,
   "metadata": {},
   "outputs": [
    {
     "name": "stderr",
     "output_type": "stream",
     "text": [
      "100%|██████████| 4/4 [00:48<00:00, 10.77s/it]\n"
     ]
    }
   ],
   "source": [
    "from tqdm import tqdm\n",
    "base_url=\"https://www.oyorooms.com/hotels-in-coimbatore/?page={}\"\n",
    "tables=[]\n",
    "for i in tqdm(range(1,5)):\n",
    "    url=base_url.format(i)\n",
    "    tables.append(get_data(url))"
   ]
  },
  {
   "cell_type": "code",
   "execution_count": 23,
   "metadata": {},
   "outputs": [],
   "source": [
    "big_table=pd.concat(tables,axis=0)"
   ]
  },
  {
   "cell_type": "code",
   "execution_count": 24,
   "metadata": {},
   "outputs": [
    {
     "data": {
      "text/html": [
       "<div>\n",
       "<style scoped>\n",
       "    .dataframe tbody tr th:only-of-type {\n",
       "        vertical-align: middle;\n",
       "    }\n",
       "\n",
       "    .dataframe tbody tr th {\n",
       "        vertical-align: top;\n",
       "    }\n",
       "\n",
       "    .dataframe thead th {\n",
       "        text-align: right;\n",
       "    }\n",
       "</style>\n",
       "<table border=\"1\" class=\"dataframe\">\n",
       "  <thead>\n",
       "    <tr style=\"text-align: right;\">\n",
       "      <th></th>\n",
       "      <th>title</th>\n",
       "      <th>addr</th>\n",
       "      <th>rating</th>\n",
       "      <th>price</th>\n",
       "    </tr>\n",
       "  </thead>\n",
       "  <tbody>\n",
       "    <tr>\n",
       "      <th>0</th>\n",
       "      <td>OYO 22536 Vishaak Inn</td>\n",
       "      <td>Near Ganapathy Bus Stop, Ganapathypudur, Coimb...</td>\n",
       "      <td>4.3</td>\n",
       "      <td>₹932</td>\n",
       "    </tr>\n",
       "    <tr>\n",
       "      <th>1</th>\n",
       "      <td>Capital O 14406 Hotel Subashree</td>\n",
       "      <td>Ram Nagar, Coimbatore</td>\n",
       "      <td>4.3</td>\n",
       "      <td>₹1243</td>\n",
       "    </tr>\n",
       "  </tbody>\n",
       "</table>\n",
       "</div>"
      ],
      "text/plain": [
       "                             title  \\\n",
       "0            OYO 22536 Vishaak Inn   \n",
       "1  Capital O 14406 Hotel Subashree   \n",
       "\n",
       "                                                addr rating  price  \n",
       "0  Near Ganapathy Bus Stop, Ganapathypudur, Coimb...    4.3   ₹932  \n",
       "1                              Ram Nagar, Coimbatore    4.3  ₹1243  "
      ]
     },
     "execution_count": 24,
     "metadata": {},
     "output_type": "execute_result"
    }
   ],
   "source": [
    "big_table.head(2)"
   ]
  },
  {
   "cell_type": "code",
   "execution_count": 25,
   "metadata": {},
   "outputs": [
    {
     "data": {
      "text/plain": [
       "(70, 4)"
      ]
     },
     "execution_count": 25,
     "metadata": {},
     "output_type": "execute_result"
    }
   ],
   "source": [
    "big_table.shape"
   ]
  },
  {
   "cell_type": "code",
   "execution_count": 26,
   "metadata": {},
   "outputs": [],
   "source": [
    "### Zomato Example\n",
    "url=\"https://www.zomato.com/bangalore/hyderabadi-spice-3-electronic-city/reviews\"\n",
    "browser.get(url)"
   ]
  },
  {
   "cell_type": "code",
   "execution_count": 27,
   "metadata": {},
   "outputs": [],
   "source": [
    "path=\"/html/body/div[7]/div[1]/div/div[1]/div[3]/div/div[3]/div[1]/div[1]/div[1]/div/div[3]/a[2]\"\n",
    "all_rev=browser.find_element_by_xpath(path)"
   ]
  },
  {
   "cell_type": "code",
   "execution_count": 28,
   "metadata": {},
   "outputs": [],
   "source": [
    "all_rev.click()"
   ]
  },
  {
   "cell_type": "code",
   "execution_count": 29,
   "metadata": {},
   "outputs": [],
   "source": [
    "x=browser.find_elements_by_class_name(\"zred\")"
   ]
  },
  {
   "cell_type": "code",
   "execution_count": 30,
   "metadata": {},
   "outputs": [
    {
     "data": {
      "text/plain": [
       "11"
      ]
     },
     "execution_count": 30,
     "metadata": {},
     "output_type": "execute_result"
    }
   ],
   "source": [
    "len(x)"
   ]
  },
  {
   "cell_type": "code",
   "execution_count": 41,
   "metadata": {},
   "outputs": [
    {
     "data": {
      "text/plain": [
       "'LOAD MORE'"
      ]
     },
     "execution_count": 41,
     "metadata": {},
     "output_type": "execute_result"
    }
   ],
   "source": [
    "x[9].text.strip()"
   ]
  },
  {
   "cell_type": "code",
   "execution_count": 44,
   "metadata": {},
   "outputs": [
    {
     "name": "stdout",
     "output_type": "stream",
     "text": [
      "Not found\n",
      "Not found\n",
      "Not found\n",
      "Not found\n",
      "Not found\n",
      "Not found\n",
      "Not found\n",
      "Not found\n",
      "Not found\n",
      "LOAD MORE\n",
      "Not found\n"
     ]
    }
   ],
   "source": [
    "for i in x:\n",
    "    if i.text.strip()==\"LOAD MORE\":\n",
    "        print(i.text.strip())\n",
    "        i.click()\n",
    "    else:\n",
    "        print(\"Not found\")"
   ]
  },
  {
   "cell_type": "code",
   "execution_count": 45,
   "metadata": {},
   "outputs": [],
   "source": [
    "x=browser.find_elements_by_class_name(\"zred\")"
   ]
  },
  {
   "cell_type": "code",
   "execution_count": 46,
   "metadata": {},
   "outputs": [
    {
     "data": {
      "text/plain": [
       "11"
      ]
     },
     "execution_count": 46,
     "metadata": {},
     "output_type": "execute_result"
    }
   ],
   "source": [
    "len(x)"
   ]
  },
  {
   "cell_type": "code",
   "execution_count": 58,
   "metadata": {},
   "outputs": [],
   "source": [
    "#### Go to home-> get all reviews tab->click load more button twice\n",
    "url=\"https://www.zomato.com/bangalore/hyderabadi-spice-3-electronic-city/reviews\"\n",
    "browser.get(url)"
   ]
  },
  {
   "cell_type": "code",
   "execution_count": 59,
   "metadata": {},
   "outputs": [],
   "source": [
    "path=\"/html/body/div[7]/div[1]/div/div[1]/div[3]/div/div[3]/div[1]/div[1]/div[1]/div/div[3]/a[2]\"\n",
    "all_rev=browser.find_element_by_xpath(path)\n",
    "all_rev.click()"
   ]
  },
  {
   "cell_type": "code",
   "execution_count": 66,
   "metadata": {},
   "outputs": [],
   "source": [
    "import time\n",
    "def click():\n",
    "    x=browser.find_elements_by_class_name(\"zred\")\n",
    "    flag=False\n",
    "    for i in x:\n",
    "        if i.text.strip()=='LOAD MORE':\n",
    "            i.click()\n",
    "            flag=True\n",
    "            time.sleep(2)\n",
    "    return flag"
   ]
  },
  {
   "cell_type": "code",
   "execution_count": 52,
   "metadata": {},
   "outputs": [],
   "source": [
    "click()"
   ]
  },
  {
   "cell_type": "code",
   "execution_count": 67,
   "metadata": {},
   "outputs": [],
   "source": [
    "flag=True\n",
    "while flag:\n",
    "    flag=click()"
   ]
  },
  {
   "cell_type": "code",
   "execution_count": 68,
   "metadata": {},
   "outputs": [],
   "source": [
    "html=browser.page_source"
   ]
  },
  {
   "cell_type": "code",
   "execution_count": 69,
   "metadata": {},
   "outputs": [],
   "source": [
    "soup=BeautifulSoup(html,'html.parser')"
   ]
  },
  {
   "cell_type": "code",
   "execution_count": 71,
   "metadata": {},
   "outputs": [
    {
     "name": "stdout",
     "output_type": "stream",
     "text": [
      "Rated \n",
      "                                            We got a lemon chicken and kalmi kabab parcelled . The taste was fabulous , although lemon chicken was a bit spicy. Prices are reasonable and food portions are good.\n",
      "Rated \n",
      "                                            If you are pure vegetarian, pls do not order the food from this restaurant. Ordered paneer 65, for chicken 65 and chicken biryani rice instead of veg biryani.\n",
      "Rated\n",
      "Rated \n",
      "                                            Everything about Hyderabadi Spice is good so far, but add ons are a waste so request you to put an option to choose add on like a raita or some gravy etc.\n",
      "Rated \n",
      "                                            Hyderabadi spice biryani also one of the best biryani spot in Bangalore...biryani nice taste but there is no spice..only normal spice.. chicken pieces are very juice well cooked chicken..one person sufficient can eat biryani y iam giving 3 star I want to spice biryani.or other wise who ever intersed to eat lite masala they can choose hyd spice\n",
      "Rated \n",
      "                                            Had been there multiple times but had a poor experience during the last time. Taste wise it was good but quality was very bad as we found a small cockroach in the biryani which we ordered. There were so many kids eating food at that time in this restaurant but it was not at all hygienic.\n",
      "Rated \n",
      "                                            Always a favorite place whenever I'll feel hungry, best option which offers quick service. Price is less and the taste of the food is awesome\n",
      "Rated \n",
      "                                            Love the chicken biryani😋\n",
      "Quantity is very good👌\n",
      "Love the spice..\n",
      "I recommend this restaurant...\n",
      "Veg lovers can try Panner biryani too good 😋\n",
      "Rated \n",
      "                                            Hello Hyderabad spice I like your biryani but the problem is after giving you good ratings and review zomato has stopped giving me discounts on your food items . Kindly look into it as I really like your food. Thanks in advance\n",
      "Rated \n",
      "                                            I ordered chicken biriyani and it was good with reasonable price.\n",
      "The taste of biriyani was a little spicy and the rice was real biriyani rice.\n",
      "Rated \n",
      "                                            This restaurant never fails to impress. Every order is fresh and mouth watering and u keep wanting more. Excellent job, keep up the excellent quality . Thanks\n",
      "Rated \n",
      "                                            It's our go-to place for any kind of quick plans. We always order for a plate of Chilli Chicken whenever we vist the outlet. They give such a good quantity of chilli chicken at just Rs. 120. We tried their Chilli Baby Corn once and it was tasty too. We also place orders for Veg Biryani and Special Chicken Biryani whenever we go there. Although I'm not a big fan of their biryani since I find the rice a bit watery/wet but it doesn't taste bad at all. If you're looking for an extremely budget friendly place, do visit them.\n",
      "\n",
      "Cheers to food! Cheers to life!\n",
      "\n",
      "Pocket pinch: 250-300 for two\n",
      "Rated \n",
      "                                            Good Hyderabadi restaurant. Ambiance is good and staff is friendly. one of the good restaurant which serves quality hyderabi dishes in Electronic city. great taste and spicy\n",
      "Rated \n",
      "                                            The quality of biryani is really bad service is bad. The place is always crowded which is it a bad thing but service is extremely bad. Indian breads and curries are good.overall experience is above average. Otherwise if you are looking for a quick dinner this is the place.\n",
      "Rated \n",
      "                                            Nice Biriyani tasted like peri peri chicken Biriyani, food was good and tasted nice and quantity was good too. Will order again. 11111111111\n",
      "Rated \n",
      "                                            Chicken Biriyani and boneless chicken curry is awesome, you can blindly order these items N number of time, even though you will not get bored.☺️☺️☺️\n",
      "Rated \n",
      "                                            We ordered chilli chicken and butter naan. And while serving the chicken to my friend I happened to see insect's waste on the chicken plate. Later when we checked the same with the hotel manager he refused to say anything. So please check before you guys eat from this place. Personally I would never recommend this place to anyone.\n",
      "Rated \n",
      "                                            Very nice biryani. I had tried egg and chicken biryani both of which are tasty. Tasty food and used to eat here during lunch time. Quick delivery, enjoyed the food\n",
      "Rated \n",
      "                                            Food is good but there Is no parking specially if you have car.\n",
      "If you order they don't use good packaging so food get leak. Its almost for any food you order. High charge on packaging and worst packing ever.\n",
      "Rated \n",
      "                                            Recently ordered Chicken Biriyani from here. Taste was good, but side dish they provided was not up to the mark. Salad the provided was more like butter milk, even gravy was not upto the mark in terms of taste. But taste and quantity was good. In fact, it is more than what a person can eat.\n",
      "Rated \n",
      "                                            Super taste and chicken is soft I really enjoyed.great come after my last feedback.\n",
      "Rated \n",
      "                                            very good\n",
      "Rated \n",
      "                                            Ordered prawn and Mutton briyani from Hyderbadi Spice Electronic City phase 1 and was delivered two packets of chicken briyani 😐. Further trying to reach Zomato customer care but no one is responding. Swiggy will be a much better choice I believe\n",
      "Rated \n",
      "                                            Chicken is rubbery\n",
      "Rated \n",
      "                                            Not Good.. Once I ordered it looks so delicious and tasty but in real it was yesterday's food.. Smells bad... When I tested I vomited.. Never try from here.. Zomoto also not responding.. And restaurant also not reachable... So if you don't want to suffer then don't go for this... Don't know how the rating is good.. 😒😒\n",
      "Rated \n",
      "                                            Please spend some time to read, before you order in this restaurant (Hydearabadi Spice)\n",
      "\n",
      "Order ID: 1325160104\n",
      "I have ordered Veg Panner Biriyani, plain biriyani rice and Gobi Manchuria along with kaju panner curry.\n",
      "\n",
      "They have mixed Chicken Pieces in panner biriyani. Observed that, oil and food items are not hygienic and for curries they will add food colours, it may cause sick and for your kids may happen stomach upset.. They don't have concern to run the business and even they didn't understand simple English to read the order. They are not deserve as a restaurant. Shame on you Guys..\n",
      "\n",
      "WARNING ⚠ ..Pure Vegetarians and My Dear customers... Please Stay Away from Hyderabadi Spice.\n",
      "Rated \n",
      "                                            I have ordered special chicken briyani.. Taste is so good and quality also perfect but food packing very bad and also delivery taking more time..\n",
      "Rated \n",
      "                                            I had ordered mushroom 🍄 biriyani . It really tasted good while eating. The long basmati rice had soothing flavour with good amount of mushrooms on it. But after consuming I had terrible experience. I kept on burping till late night. How much ever water 💦 I drank never helped. Not sure what was wrong . Hence I will not recommend this place .\n",
      "Rated \n",
      "                                            good food\n",
      "Rated \n",
      "                                            Biriyani was delicious. I have ordered one chicken briyani. Quantity is sufficient for two people for one person it is too much. Must try it.\n",
      "Rated \n",
      "                                            Loved the food... Biriyani was just awesome.. have also tried other nonveg dishes, superliked all the items..\n",
      "This restaurant has been my first choice always even for the Online food-orders.. price is reasonable, again by applying coupon it becomes so less, and moreover food quality is really appealing..\n",
      "Rated \n",
      "                                            I love the food quality of this restaurant. They are the best in Electronic City area. They serves hygienic and delicious food. My favourite menu is Chicken Dum and Special Biryani and almost all chicken starters.\n",
      "Rated \n",
      "                                            Good Service\n",
      "Rated \n",
      "                                            Food is good. pocket friendly place. Staff is polite. Its chicken biriyani and chicken kolahpuri is very good. On weekend crowded. On weekend you may have to wait\n",
      "Rated \n",
      "                    Located in Electronic City near CCD and many IT company this place is powerpacked on every day ...while we visited on a weekday at dinner around 8.30pm it was fully packed ..Groups /individual /family &couples ...\n",
      "\n",
      "A Very limited menu but very fast service ...from order taking to order serving in table is very quick .\n",
      "\n",
      "Tastewise food are good ...5/4 rating .\n",
      "\n",
      "Parking is an issue and the passage to hotel entrance has a smoking area were most of the people are smoking all around this may discomfort.\n",
      "\n",
      "Coming yo our order\n",
      "Starters : Chicken Tangdi Kebab\n",
      "Chilly Fish\n",
      "Corn Chilly\n",
      "Panner Tikka\n",
      "Maincourse\n",
      "Butter Naan\n",
      "Mutton Rogan Josh\n",
      "PannerTikka Masala\n",
      "hyderabadi Chicken Biryani\n",
      "Sides : Onions and lemon\n",
      "Watery Raita and Salan\n",
      "\n",
      "And one takeaway parcel of biryani\n",
      "\n",
      "To end up as the restaurant doesn't serve dessert we opted for Sweet Lassi\n",
      "\n",
      "Fast selling and timigs is the key for there al time crowd..if you miss the time most of products will be unavailable.\n",
      "\n",
      "VFM as we were 5 and the total bill was close to 1300/-\n",
      "\n",
      "An overall quick and great experience.\n",
      "Rated \n",
      "                                            Good food and friendly environment,\n",
      "Food was awesome must try items: Fish chilli and Hyderabad chicken special starter\n",
      "Very much affordable place\n",
      "Rated \n",
      "                                            as all the time Hyderabad spice is best, 1star minus for not giving salad\n",
      "Rated \n",
      "                                            Hyderabadi spice is a place for biryani.The biryani I had was very tasty,the real taste of Hyderabad.The aroma was very relishing and the chicken was well cooked.The quantity was apt for two persons.\n",
      "Rated \n",
      "                                            You have to try their special chicken wings especially. Their chicken biryanis are also absolutely fabulous. Great Food at a reasonable price. If you are going then please try Rainbow Biryani or Rainbow Masala with roti/nan. Then don't have that in the menu, just ask for it explicitly.Cost effective as well as good quality is what I have observed. The main issue here is we mostly visit this place on Friday's for lunch we have to wait a lot for grabbing a table. Chicken dum biryani, Apollo fish , barbecue chicken etc are there specials which I like the most.It's a proper Hyderabadi biryani joint. Your taste buds will be satisfied and it won't burn a hole in your pocket.\n",
      "Rated \n",
      "                                            Cheeters didnt dilever full items and if i call back they r telling book once again we will refund amount like that\n",
      "Rated \n",
      "                                            Ordered an egg and chicken biriyani \n",
      "Both the biriyani’s and chicken are very cold\n",
      "They directly brought it from fridge. \n",
      "I will never recommend to visit or Oder form this restaurant\n",
      "Rated \n",
      "                                            Good service\n",
      "Rated \n",
      "                                            I ordered mutton biriyani. But I got chicken biriyani.. I didn't expect this from hyderabadi spice... I was disappointed.. But the taste is good... Don't do this again\n",
      "Rated \n",
      "                                            Worst service fixing luck MB do MSN neg irksome idk bro NFL MSN o'clock Canuck clan mandrill Islamism BC also Kandy OSI vent MSI she Kai wine idk we've ISO 0 on TTY where web it if CLI GB ESC me\n",
      "Rated \n",
      "                                            spicy less\n",
      "Rated \n",
      "                                            The worst food i never had in my life, and peoples from the shop also not answering properly so please dont chose this restarents for ordering.\n",
      "Rated \n",
      "                                            Today we had ordered chicken biryanis and the taste of biryani was really pathetic, It was like a plane rice no taste of biryani even the rice was looking completely white but last time we had ordered it was very good.\n",
      "Don’t spoil your brand value.\n",
      "Rated \n",
      "                                            very spicy & tasty\n",
      "Rated \n",
      "                                            poor wrong delivery\n",
      "Rated \n",
      "                                            not met expectations\n",
      "Rated \n",
      "                                            time to shift to new restaurant\n",
      "Rated \n",
      "                                            Taste has to be improved\n",
      "Rated \n",
      "                                            quick delivery\n",
      "Rated \n",
      "                                            punctual and hygienic\n",
      "Rated \n",
      "                                            worst pepper chicken, it was smelling raw....yucky\n",
      "Rated \n",
      "                                            veg biryani was very spicy \n",
      "paneer biryani was okay\n",
      "Rated \n",
      "                                            Both Quality and quantity has gone bad. Chicken biryani didn’t had chicken on it. I had ordered chicken dum Biryani but there was no dum in the Biryani, it was complete white rice.\n",
      "Rated \n",
      "                                            super fast delivery man\n",
      "Rated \n",
      "                                            quality wise good with tasty food\n",
      "Rated \n",
      "                                            Packing has to be improved.\n",
      "Rated \n",
      "                                            please try to deliver on time\n",
      "Rated \n",
      "                                            not maintain proper time\n",
      "Rated \n",
      "                                            Biryani was not good. Rice was wet and overcooked. Even the chicken in biryani was half the quantity than usual. I am not happy with the experience. I had ordered Biryani many times but 1st time bad experience. I want refund\n",
      "Rated \n",
      "                                            Chicken masala was not good.\n",
      "Mutton birayani was awesome\n",
      "On swiggy they have mutton main course\n",
      "menus\n",
      "But here on zomato there is no mutton main course items\n",
      "I don't know why.\n",
      "Butter nan was very bad.\n",
      "Kulcha was good.\n",
      "Rated \n",
      "                                            Special chicken Biryani and Mutton Biryani are good. Starters are okay. The costs are not high and one can get a decent food at a very affordable price\n",
      "Rated \n",
      "                                            fine\n",
      "Rated \n",
      "                                            ORDERED Mutton biryani but i got chicken biryani ..\n",
      "Rated \n",
      "                                            food was nice, chicken quantity was more than usual\n",
      "Rated \n",
      "                                            they din provide sauce\n",
      "Rated \n",
      "                                            Quality samosa\n",
      "Rated \n",
      "                                            professional delivery boy.\n",
      "Rated \n",
      "                                            happy\n",
      "Rated \n",
      "                                            less chicken, no onion\n",
      "Rated \n",
      "                                            good\n",
      "Rated \n",
      "                                            I have ordered in Hyd spicy and after 1 hour the order got rejected, its very useless response from them, I never thought that it will be rejected. After 11.10PM have came to know that its was rejected . to the core irritated by Zomota, really worst service by zomota customer care\n",
      "Rated \n",
      "                                            Awesome food. Spicy and very tasty. On time delivery. After long time I feel like I am at Hyderabad. Taste like same as Hyderabad biryani...\n",
      "Rated \n",
      "                                            need to Improve. add some Spicy Taste\n",
      "Rated \n",
      "                                            Good\n",
      "Rated \n",
      "                                            Third class food here. I ordered Special Chicken Biriyani , there was few pieces of chicken which was dry and no taste, and instead of full egg I received half egg. Improve the quality of food first. Then come for delivery.\n",
      "Rated \n",
      "                                            good\n",
      "Rated \n",
      "                                            Awesome food really very nice\n",
      "Rated \n",
      "                                            We ordered special chicken biryani. It was taste toooo good with reasonable cost. And delivery order also came in time. Eat and enjoy.......\n",
      "Rated \n",
      "                                            I ordered chicken biryani on zamoto. But it's normal biryani with two chicken pieces.\n",
      "\n",
      "Bad kulchas not at all fresh. Manchiura is good and better\n",
      "Rated \n",
      "                                            food is not good\n",
      "Rated \n",
      "                                            I am regular customer fro hyderabadi since months now. Was disappointed with yesterday's food. Roti was pathetic was hard and not edible and was roasted\n",
      "Rated \n",
      "                                            5 star to 1 star only becoz they doesn't meet the requirement. They do not understand the meaning of extra raita.\n",
      "Otherwise Biryani is good.\n",
      "Rated \n",
      "                                            Biryani is great, can improve the raita and curry served. You can go for this restaurant if you love biryani. The speciality here is Chicken special biryani, however my favourite has been Mutton biryani.\n",
      "Rated \n",
      "                                            the chicken was sweet. Rice was good. Raita was very little.\n",
      "Rated \n",
      "                                            Value for money.Had ordered Tandori chicken and Chicken Biryani.Tandori was good.Biryani was ok.The ambience of the restaurant is not good.Service was good and fast.If you want a descent biryani and in that area,then can go there.\n",
      "Rated \n",
      "                                            very oily and spicy\n",
      "Rated \n",
      "                                            excellent taste\n",
      "Rated \n",
      "                                            Not happy with the food delivered.\n",
      "food was almost rotten.\n",
      "bad quality food delivered to me.  I just threw this once that I got delivered. waste of money and time.\n",
      "will never recommend any one zamato service or this restaurant , Disappointed!!\n",
      "Rated \n",
      "                                            I ordered Kadai veg (which is my favorite) and it was delivered just as they serve in restaurant.\n",
      "Rated \n",
      "                                            I have ordered 4 Biryani's. No onion & lemon in parcel even requested. They should not do this every time. Please check parcel everytime whenever you get order from spice.\n",
      "Rated \n",
      "                                            very good\n",
      "Rated \n",
      "                                            good\n",
      "Rated \n",
      "                                            He charged extra money\n",
      "Rated \n",
      "                                            I had ordered a lemon chicken starter. The quantity was very less and the quality was just okay.\n",
      "Rated \n",
      "                                            wrong delivery done\n",
      "Rated \n",
      "                                            Delivery delayed infinitely and upset with with ridiculous service !!\n",
      "\n",
      "Fake assurances and fooling people with no limits .\n",
      "\n",
      "Very upset and disturbing service !!\n",
      "Rated \n",
      "                                            good\n",
      "Rated \n",
      "                                            He charged extra money\n",
      "Rated \n",
      "                                            I had ordered a lemon chicken starter. The quantity was very less and the quality was just okay.\n",
      "Rated \n",
      "                                            wrong delivery done\n",
      "Rated \n",
      "                                            Delivery delayed infinitely and upset with with ridiculous service !!\n",
      "\n",
      "Fake assurances and fooling people with no limits .\n",
      "\n",
      "Very upset and disturbing service !!\n"
     ]
    }
   ],
   "source": [
    "for i in soup.find_all(\"div\",class_=\"rev-text\"):\n",
    "    print(i.text.strip())"
   ]
  },
  {
   "cell_type": "code",
   "execution_count": 72,
   "metadata": {},
   "outputs": [],
   "source": [
    "url=\"https://earthquake.usgs.gov/fdsnws/event/1/query?format=geojson&starttime=2016-10-03&endtime=2016-10-04\"\n",
    "import requests"
   ]
  },
  {
   "cell_type": "code",
   "execution_count": 73,
   "metadata": {},
   "outputs": [],
   "source": [
    "resp=requests.get(url).json()"
   ]
  },
  {
   "cell_type": "code",
   "execution_count": 75,
   "metadata": {},
   "outputs": [
    {
     "data": {
      "text/plain": [
       "dict"
      ]
     },
     "execution_count": 75,
     "metadata": {},
     "output_type": "execute_result"
    }
   ],
   "source": [
    "type(resp)"
   ]
  },
  {
   "cell_type": "code",
   "execution_count": 76,
   "metadata": {},
   "outputs": [
    {
     "data": {
      "text/plain": [
       "dict_keys(['type', 'metadata', 'features', 'bbox'])"
      ]
     },
     "execution_count": 76,
     "metadata": {},
     "output_type": "execute_result"
    }
   ],
   "source": [
    "resp.keys()"
   ]
  },
  {
   "cell_type": "code",
   "execution_count": 77,
   "metadata": {},
   "outputs": [
    {
     "data": {
      "text/plain": [
       "'FeatureCollection'"
      ]
     },
     "execution_count": 77,
     "metadata": {},
     "output_type": "execute_result"
    }
   ],
   "source": [
    "resp['type']"
   ]
  },
  {
   "cell_type": "code",
   "execution_count": 78,
   "metadata": {},
   "outputs": [
    {
     "data": {
      "text/plain": [
       "'FeatureCollection'"
      ]
     },
     "execution_count": 78,
     "metadata": {},
     "output_type": "execute_result"
    }
   ],
   "source": [
    "resp.get('type')"
   ]
  },
  {
   "cell_type": "code",
   "execution_count": 80,
   "metadata": {},
   "outputs": [
    {
     "data": {
      "text/plain": [
       "dict_keys(['generated', 'url', 'title', 'status', 'api', 'count'])"
      ]
     },
     "execution_count": 80,
     "metadata": {},
     "output_type": "execute_result"
    }
   ],
   "source": [
    "resp['metadata'].keys()"
   ]
  },
  {
   "cell_type": "code",
   "execution_count": 85,
   "metadata": {},
   "outputs": [
    {
     "data": {
      "text/plain": [
       "dict_keys(['type', 'properties', 'geometry', 'id'])"
      ]
     },
     "execution_count": 85,
     "metadata": {},
     "output_type": "execute_result"
    }
   ],
   "source": [
    "resp['features'][0].keys()"
   ]
  },
  {
   "cell_type": "code",
   "execution_count": 96,
   "metadata": {},
   "outputs": [
    {
     "data": {
      "text/plain": [
       "{'type': 'Feature',\n",
       " 'properties': {'mag': 0.71,\n",
       "  'place': '8km SW of Idyllwild, CA',\n",
       "  'time': 1475538825200,\n",
       "  'updated': 1475544293288,\n",
       "  'tz': -420,\n",
       "  'url': 'https://earthquake.usgs.gov/earthquakes/eventpage/ci37709368',\n",
       "  'detail': 'https://earthquake.usgs.gov/fdsnws/event/1/query?eventid=ci37709368&format=geojson',\n",
       "  'felt': None,\n",
       "  'cdi': None,\n",
       "  'mmi': None,\n",
       "  'alert': None,\n",
       "  'status': 'reviewed',\n",
       "  'tsunami': 0,\n",
       "  'sig': 8,\n",
       "  'net': 'ci',\n",
       "  'code': '37709368',\n",
       "  'ids': ',ci37709368,',\n",
       "  'sources': ',ci,',\n",
       "  'types': ',cap,general-link,geoserve,nearby-cities,origin,phase-data,scitech-link,',\n",
       "  'nst': 26,\n",
       "  'dmin': 0.06173,\n",
       "  'rms': 0.13,\n",
       "  'gap': 100,\n",
       "  'magType': 'ml',\n",
       "  'type': 'earthquake',\n",
       "  'title': 'M 0.7 - 8km SW of Idyllwild, CA'},\n",
       " 'geometry': {'type': 'Point', 'coordinates': [-116.7825, 33.6873333, 16.71]},\n",
       " 'id': 'ci37709368'}"
      ]
     },
     "execution_count": 96,
     "metadata": {},
     "output_type": "execute_result"
    }
   ],
   "source": [
    "resp['features'][0] ## Find out the time and the type of all \n",
    "## the events"
   ]
  },
  {
   "cell_type": "code",
   "execution_count": 101,
   "metadata": {},
   "outputs": [],
   "source": [
    "time=[]\n",
    "typ=[]\n",
    "for i in resp['features']:\n",
    "    time.append(i['properties']['time'])\n",
    "    typ.append(i['properties']['type'])"
   ]
  },
  {
   "cell_type": "code",
   "execution_count": 102,
   "metadata": {},
   "outputs": [],
   "source": [
    "table=pd.DataFrame({'time':time,'type':typ})"
   ]
  },
  {
   "cell_type": "code",
   "execution_count": 106,
   "metadata": {},
   "outputs": [
    {
     "name": "stdout",
     "output_type": "stream",
     "text": [
      "16.71\n",
      "128.2\n",
      "1.96\n",
      "1.29\n",
      "3.9\n",
      "192.85\n",
      "2.9\n",
      "13.98\n",
      "0\n",
      "20.9\n",
      "183.7\n",
      "21.8\n",
      "121.24\n",
      "6.6\n",
      "2.96\n",
      "22.9\n",
      "23.1\n",
      "3.7\n",
      "21.4\n",
      "22.9\n",
      "43\n",
      "21\n",
      "6.9\n",
      "10.35\n",
      "52.7\n",
      "114.32\n",
      "8.55\n",
      "3.88\n",
      "121.6\n",
      "3.9\n",
      "56.45\n",
      "1.22\n",
      "5.6\n",
      "11.7\n",
      "5.9\n",
      "6.16\n",
      "4.2\n",
      "1.51\n",
      "19\n",
      "119.6\n",
      "3.9\n",
      "11.47\n",
      "15.55\n",
      "0\n",
      "150.15\n",
      "14.45\n",
      "0.83\n",
      "-0.67\n",
      "-0.49\n",
      "18\n",
      "70.4\n",
      "-1.71\n",
      "11.87\n",
      "10.32\n",
      "-0.51\n",
      "1.64\n",
      "25.7\n",
      "7.45\n",
      "185.58\n",
      "10\n",
      "-1.02\n",
      "516.81\n",
      "40.69\n",
      "96.6\n",
      "-0.31\n",
      "10\n",
      "0\n",
      "6.58\n",
      "120.8\n",
      "30.97\n",
      "1.49\n",
      "4.18\n",
      "9.2\n",
      "1.87\n",
      "10\n",
      "10.2\n",
      "-0.57\n",
      "8.32\n",
      "14.66\n",
      "10\n",
      "88.6\n",
      "0\n",
      "31.5\n",
      "12.23\n",
      "0.33\n",
      "0.2\n",
      "71.4\n",
      "0\n",
      "12.04\n",
      "5.86\n",
      "176.08\n",
      "160.12\n",
      "57.6\n",
      "5.95\n",
      "8.2\n",
      "13\n",
      "53.8\n",
      "115.5\n",
      "18.6\n",
      "0.04\n",
      "3.4\n",
      "13.9\n",
      "10\n",
      "2\n",
      "7.5\n",
      "36.1\n",
      "78\n",
      "158.4\n",
      "10\n",
      "1.38\n",
      "2.12\n",
      "530.36\n",
      "6.5\n",
      "3\n",
      "10.46\n",
      "34.4\n",
      "137\n",
      "103.2\n",
      "6.3\n",
      "11.51\n",
      "3.9\n",
      "2.8\n",
      "1.71\n",
      "2.9\n",
      "5.2\n",
      "4.4\n",
      "6\n",
      "3.9\n",
      "15.66\n",
      "37.18\n",
      "8.8\n",
      "10\n",
      "1.47\n",
      "4\n",
      "6.4\n",
      "7.13\n",
      "1.78\n",
      "26\n",
      "14.4\n",
      "508.54\n",
      "1.62\n",
      "10\n",
      "6.048\n",
      "94.29\n",
      "37.73\n",
      "21.38\n",
      "1.41\n",
      "57.2\n",
      "7.7\n",
      "5\n",
      "143.6\n",
      "45.1\n",
      "111.8\n",
      "4.9\n",
      "1.94\n",
      "9.3\n",
      "6.87\n",
      "0\n",
      "0.7\n",
      "7.46\n",
      "13.2\n",
      "0\n",
      "1.3\n",
      "8.5\n",
      "0\n",
      "0\n",
      "0.7\n",
      "3.4\n",
      "0\n",
      "6.18\n",
      "0.3\n",
      "5.98\n",
      "47.8\n",
      "5.89\n",
      "65.9\n",
      "6.1\n",
      "2.89\n",
      "1.58\n",
      "5.5\n",
      "48\n",
      "66.89\n",
      "6.39\n",
      "4.88\n",
      "10.82\n",
      "3.92\n",
      "4.5\n",
      "10.97\n",
      "11.8\n",
      "6.61\n",
      "41\n",
      "169.01\n",
      "46.6\n",
      "9.8\n",
      "0\n",
      "6.7\n",
      "44.3\n",
      "1.65\n",
      "60.3\n",
      "11.7\n",
      "5.63\n",
      "0\n",
      "1.87\n",
      "1.45\n",
      "0.37\n",
      "65.9\n",
      "7.3\n",
      "106.8\n",
      "10\n",
      "11.14\n",
      "13.3\n",
      "13\n",
      "41.2\n",
      "16.3\n",
      "1.9\n",
      "545.08\n",
      "118.7\n",
      "72.5\n",
      "0\n",
      "21.1\n",
      "50\n",
      "40.33\n",
      "0\n",
      "7.43\n",
      "35.29\n",
      "1.11\n",
      "22.55\n",
      "0\n",
      "2.21\n",
      "3.9\n",
      "36.1\n",
      "10\n",
      "102.59\n",
      "3.5\n",
      "9.4\n",
      "0\n",
      "2.71\n",
      "4.9\n",
      "12.32\n",
      "3\n",
      "49.5\n",
      "2.72\n",
      "17.9\n",
      "4.63\n",
      "20\n",
      "6.09\n",
      "125.6\n",
      "267.47\n",
      "1.81\n",
      "2.9\n",
      "6.7\n",
      "1.15\n",
      "35.2\n",
      "4.6\n",
      "18.17\n",
      "5.4\n",
      "34.4\n",
      "2.03\n",
      "13.65\n",
      "7.7\n",
      "35\n",
      "0.9\n",
      "0\n",
      "0\n",
      "2.58\n",
      "24.1\n",
      "4.87\n",
      "0\n",
      "80.47\n",
      "11.77\n",
      "3.17\n",
      "14\n",
      "5\n",
      "15\n",
      "131.73\n",
      "6.1\n",
      "554.74\n",
      "9.37\n",
      "54.3\n",
      "2.58\n",
      "3.5\n",
      "16.73\n",
      "4\n",
      "8.72\n",
      "43.5\n",
      "35.69\n",
      "123.2\n",
      "18.57\n",
      "15.61\n",
      "9.1\n",
      "1.33\n",
      "1.33\n",
      "1.27\n",
      "3.2\n"
     ]
    }
   ],
   "source": [
    "### Tsunami or not\n",
    "for i in resp['features']:\n",
    "    print(i['geometry']['coordinates'][-1])\n",
    "    "
   ]
  },
  {
   "cell_type": "code",
   "execution_count": 107,
   "metadata": {},
   "outputs": [],
   "source": [
    "### Class Excercise\n",
    "url=\"https://earthquake.usgs.gov/fdsnws/event/1/query?format=geojson&starttime=2016-10-01&endtime=2016-10-02\""
   ]
  },
  {
   "cell_type": "code",
   "execution_count": 108,
   "metadata": {},
   "outputs": [],
   "source": [
    "resp=requests.get(url).json()"
   ]
  },
  {
   "cell_type": "code",
   "execution_count": 109,
   "metadata": {},
   "outputs": [
    {
     "data": {
      "text/plain": [
       "dict_keys(['type', 'metadata', 'features', 'bbox'])"
      ]
     },
     "execution_count": 109,
     "metadata": {},
     "output_type": "execute_result"
    }
   ],
   "source": [
    "resp.keys()"
   ]
  },
  {
   "cell_type": "code",
   "execution_count": 111,
   "metadata": {},
   "outputs": [
    {
     "data": {
      "text/plain": [
       "list"
      ]
     },
     "execution_count": 111,
     "metadata": {},
     "output_type": "execute_result"
    }
   ],
   "source": [
    "type(resp['features'])"
   ]
  },
  {
   "cell_type": "code",
   "execution_count": 112,
   "metadata": {},
   "outputs": [
    {
     "data": {
      "text/plain": [
       "309"
      ]
     },
     "execution_count": 112,
     "metadata": {},
     "output_type": "execute_result"
    }
   ],
   "source": [
    "len(resp['features'])"
   ]
  },
  {
   "cell_type": "code",
   "execution_count": 114,
   "metadata": {},
   "outputs": [
    {
     "data": {
      "text/plain": [
       "dict"
      ]
     },
     "execution_count": 114,
     "metadata": {},
     "output_type": "execute_result"
    }
   ],
   "source": [
    "type(resp['features'][0])"
   ]
  },
  {
   "cell_type": "code",
   "execution_count": 117,
   "metadata": {},
   "outputs": [],
   "source": [
    "lat=[]\n",
    "lon=[]\n",
    "for i in resp['features']:\n",
    "    lat.append(i['geometry']['coordinates'][0])\n",
    "    lon.append(i['geometry']['coordinates'][1])"
   ]
  },
  {
   "cell_type": "code",
   "execution_count": 119,
   "metadata": {},
   "outputs": [],
   "source": [
    "place=[]\n",
    "for i in resp['features']:\n",
    "    place.append(i['properties']['place'])"
   ]
  },
  {
   "cell_type": "code",
   "execution_count": 121,
   "metadata": {},
   "outputs": [],
   "source": [
    "mag=[]\n",
    "for i in resp['features']:\n",
    "    mag.append(i['properties']['mag'])"
   ]
  },
  {
   "cell_type": "code",
   "execution_count": 122,
   "metadata": {},
   "outputs": [],
   "source": [
    "table=pd.DataFrame({'lat':lat,'lon':lon,'place':place,'mag':mag})"
   ]
  },
  {
   "cell_type": "code",
   "execution_count": 124,
   "metadata": {},
   "outputs": [
    {
     "data": {
      "text/plain": [
       "(309, 4)"
      ]
     },
     "execution_count": 124,
     "metadata": {},
     "output_type": "execute_result"
    }
   ],
   "source": [
    "table.shape"
   ]
  },
  {
   "cell_type": "code",
   "execution_count": 125,
   "metadata": {},
   "outputs": [
    {
     "data": {
      "text/plain": [
       "lat      float64\n",
       "lon      float64\n",
       "place     object\n",
       "mag      float64\n",
       "dtype: object"
      ]
     },
     "execution_count": 125,
     "metadata": {},
     "output_type": "execute_result"
    }
   ],
   "source": [
    "table.dtypes"
   ]
  },
  {
   "cell_type": "code",
   "execution_count": 127,
   "metadata": {},
   "outputs": [
    {
     "data": {
      "text/plain": [
       "79"
      ]
     },
     "execution_count": 127,
     "metadata": {},
     "output_type": "execute_result"
    }
   ],
   "source": [
    "table.query(\"mag>2\").shape[0]"
   ]
  },
  {
   "cell_type": "code",
   "execution_count": 129,
   "metadata": {},
   "outputs": [
    {
     "data": {
      "text/plain": [
       "66"
      ]
     },
     "execution_count": 129,
     "metadata": {},
     "output_type": "execute_result"
    }
   ],
   "source": [
    "table['place'].str.contains('California').sum()"
   ]
  },
  {
   "cell_type": "code",
   "execution_count": 131,
   "metadata": {},
   "outputs": [
    {
     "data": {
      "text/plain": [
       "66"
      ]
     },
     "execution_count": 131,
     "metadata": {},
     "output_type": "execute_result"
    }
   ],
   "source": [
    "table['place'].map(lambda x:1 if 'California' in x else 0).sum()"
   ]
  },
  {
   "cell_type": "code",
   "execution_count": 132,
   "metadata": {},
   "outputs": [
    {
     "data": {
      "text/plain": [
       "6"
      ]
     },
     "execution_count": 132,
     "metadata": {},
     "output_type": "execute_result"
    }
   ],
   "source": [
    "table.query(\"mag>5\").shape[0]"
   ]
  },
  {
   "cell_type": "code",
   "execution_count": 135,
   "metadata": {},
   "outputs": [],
   "source": [
    "import tweepy"
   ]
  },
  {
   "cell_type": "code",
   "execution_count": 136,
   "metadata": {},
   "outputs": [],
   "source": [
    "api_key=\"MNjVv7nk4zC6n8jplbmk2KOpz\"\n",
    "api_secret=\"YEMPK021whcYgXU6DsgihWIRIspl3T2qk9dyqLkdvkET7AZLXm\"\n",
    "access_token=\"897478702128275457-XdQatKUoG1wcABKBMpQQaVb4bwVyiBP\"\n",
    "access_secret=\"z7glRxY7bP97F4uahhEonfB6C8MepTcyRvjihtGSpJCf6\""
   ]
  },
  {
   "cell_type": "code",
   "execution_count": 139,
   "metadata": {},
   "outputs": [],
   "source": [
    "auth=tweepy.OAuthHandler(api_key,api_secret)\n",
    "auth.set_access_token(access_token,access_secret)\n",
    "api=tweepy.API(auth)"
   ]
  },
  {
   "cell_type": "code",
   "execution_count": 150,
   "metadata": {},
   "outputs": [],
   "source": [
    "user_tweets=api.user_timeline(\"@RahulGandhi\",page=1,count=200)"
   ]
  },
  {
   "cell_type": "code",
   "execution_count": 143,
   "metadata": {},
   "outputs": [
    {
     "data": {
      "text/plain": [
       "200"
      ]
     },
     "execution_count": 143,
     "metadata": {},
     "output_type": "execute_result"
    }
   ],
   "source": [
    "len(user_tweets)"
   ]
  },
  {
   "cell_type": "code",
   "execution_count": 154,
   "metadata": {},
   "outputs": [
    {
     "name": "stdout",
     "output_type": "stream",
     "text": [
      "['__class__', '__delattr__', '__dict__', '__dir__', '__doc__', '__eq__', '__format__', '__ge__', '__getattribute__', '__getstate__', '__gt__', '__hash__', '__init__', '__init_subclass__', '__le__', '__lt__', '__module__', '__ne__', '__new__', '__reduce__', '__reduce_ex__', '__repr__', '__setattr__', '__sizeof__', '__str__', '__subclasshook__', '__weakref__', '_api', '_json', 'author', 'contributors', 'coordinates', 'created_at', 'destroy', 'entities', 'favorite', 'favorite_count', 'favorited', 'geo', 'id', 'id_str', 'in_reply_to_screen_name', 'in_reply_to_status_id', 'in_reply_to_status_id_str', 'in_reply_to_user_id', 'in_reply_to_user_id_str', 'is_quote_status', 'lang', 'parse', 'parse_list', 'place', 'possibly_sensitive', 'retweet', 'retweet_count', 'retweeted', 'retweets', 'source', 'source_url', 'text', 'truncated', 'user']\n"
     ]
    }
   ],
   "source": [
    "print(dir(user_tweets[0]))"
   ]
  },
  {
   "cell_type": "code",
   "execution_count": 151,
   "metadata": {},
   "outputs": [
    {
     "data": {
      "text/plain": [
       "'I will be in Maharashtra today to address 2 public meetings as per the schedule in the graphic below. \\n\\nYou can als… https://t.co/xaFSzvYfSp'"
      ]
     },
     "execution_count": 151,
     "metadata": {},
     "output_type": "execute_result"
    }
   ],
   "source": [
    "user_tweets[0].text"
   ]
  },
  {
   "cell_type": "code",
   "execution_count": 152,
   "metadata": {},
   "outputs": [
    {
     "data": {
      "text/plain": [
       "datetime.datetime(2019, 10, 15, 5, 31, 47)"
      ]
     },
     "execution_count": 152,
     "metadata": {},
     "output_type": "execute_result"
    }
   ],
   "source": [
    "user_tweets[0].created_at"
   ]
  },
  {
   "cell_type": "code",
   "execution_count": 153,
   "metadata": {},
   "outputs": [
    {
     "data": {
      "text/plain": [
       "'Twitter for iPhone'"
      ]
     },
     "execution_count": 153,
     "metadata": {},
     "output_type": "execute_result"
    }
   ],
   "source": [
    "user_tweets[0].source"
   ]
  },
  {
   "cell_type": "code",
   "execution_count": 158,
   "metadata": {},
   "outputs": [],
   "source": [
    "text=[]\n",
    "Time=[]\n",
    "source=[]\n",
    "rt=[]\n",
    "lang=[]\n",
    "for tweet in user_tweets:\n",
    "    text.append(tweet.text)\n",
    "    Time.append(tweet.created_at)\n",
    "    source.append(tweet.source)\n",
    "    rt.append(tweet.retweet_count)\n",
    "    lang.append(tweet.lang)"
   ]
  },
  {
   "cell_type": "code",
   "execution_count": 159,
   "metadata": {},
   "outputs": [],
   "source": [
    "table=pd.DataFrame({'text':text,'time':Time,'source':source,'rt':rt,\\\n",
    "                   'lang':lang})"
   ]
  },
  {
   "cell_type": "code",
   "execution_count": 161,
   "metadata": {},
   "outputs": [
    {
     "data": {
      "text/plain": [
       "en     154\n",
       "hi      38\n",
       "mr       3\n",
       "und      2\n",
       "in       1\n",
       "ml       1\n",
       "ta       1\n",
       "Name: lang, dtype: int64"
      ]
     },
     "execution_count": 161,
     "metadata": {},
     "output_type": "execute_result"
    }
   ],
   "source": [
    "table['lang'].value_counts()"
   ]
  },
  {
   "cell_type": "code",
   "execution_count": 162,
   "metadata": {},
   "outputs": [
    {
     "data": {
      "text/plain": [
       "Twitter for iPhone      195\n",
       "Twitter Media Studio      5\n",
       "Name: source, dtype: int64"
      ]
     },
     "execution_count": 162,
     "metadata": {},
     "output_type": "execute_result"
    }
   ],
   "source": [
    "table['source'].value_counts()"
   ]
  },
  {
   "cell_type": "code",
   "execution_count": 163,
   "metadata": {},
   "outputs": [
    {
     "name": "stderr",
     "output_type": "stream",
     "text": [
      "100%|██████████| 8/8 [00:13<00:00,  1.48s/it]\n"
     ]
    }
   ],
   "source": [
    "from tqdm import tqdm\n",
    "text=[]\n",
    "Time=[]\n",
    "source=[]\n",
    "rt=[]\n",
    "lang=[]\n",
    "for i in tqdm(range(1,9)):\n",
    "    user_tweets=api.user_timeline(\"@RahulGandhi\",page=i,count=200)\n",
    "    for tweet in user_tweets:\n",
    "        text.append(tweet.text)\n",
    "        Time.append(tweet.created_at)\n",
    "        source.append(tweet.source)\n",
    "        rt.append(tweet.retweet_count)\n",
    "        lang.append(tweet.lang)\n",
    "table=pd.DataFrame({'text':text,'time':Time,'source':source,'rt':rt,\\\n",
    "                   'lang':lang})"
   ]
  },
  {
   "cell_type": "code",
   "execution_count": 168,
   "metadata": {},
   "outputs": [
    {
     "data": {
      "text/plain": [
       "en     1166\n",
       "hi      377\n",
       "und      19\n",
       "mr        6\n",
       "in        5\n",
       "ta        5\n",
       "kn        4\n",
       "ml        3\n",
       "gu        3\n",
       "te        3\n",
       "tl        2\n",
       "de        1\n",
       "da        1\n",
       "pt        1\n",
       "fi        1\n",
       "fr        1\n",
       "ne        1\n",
       "cs        1\n",
       "Name: lang, dtype: int64"
      ]
     },
     "execution_count": 168,
     "metadata": {},
     "output_type": "execute_result"
    }
   ],
   "source": [
    "table['lang'].value_counts()"
   ]
  },
  {
   "cell_type": "code",
   "execution_count": 187,
   "metadata": {},
   "outputs": [
    {
     "name": "stderr",
     "output_type": "stream",
     "text": [
      "100%|██████████| 19/19 [00:27<00:00,  1.36s/it]\n"
     ]
    }
   ],
   "source": [
    "from tqdm import tqdm\n",
    "text=[]\n",
    "Time=[]\n",
    "source=[]\n",
    "rt=[]\n",
    "lang=[]\n",
    "for i in tqdm(range(1,20)):\n",
    "    user_tweets=api.user_timeline(\"@narendramodi\",page=i,count=200)\n",
    "    for tweet in user_tweets:\n",
    "        text.append(tweet.text)\n",
    "        Time.append(tweet.created_at)\n",
    "        source.append(tweet.source)\n",
    "        rt.append(tweet.retweet_count)\n",
    "        lang.append(tweet.lang)\n",
    "table=pd.DataFrame({'text':text,'time':Time,'source':source,'rt':rt,\\\n",
    "                   'lang':lang})"
   ]
  },
  {
   "cell_type": "code",
   "execution_count": 194,
   "metadata": {},
   "outputs": [],
   "source": [
    "ind=table[table['text'].str.contains(\"#\")].index"
   ]
  },
  {
   "cell_type": "code",
   "execution_count": 195,
   "metadata": {},
   "outputs": [
    {
     "data": {
      "text/plain": [
       "12      This month’s #MannKiBaat will take place on 27...\n",
       "36      I offer condolences on behalf of all Indians o...\n",
       "50      我感谢习近平主席访问印度参加我们的第二次非正式会晤。#连通金奈# 将极大促进印中关系。这将造...\n",
       "51      I thank President Xi Jinping for coming to Ind...\n",
       "92      विजयादशमी के पावन पर्व पर आप सभी को हार्दिक शु...\n",
       "111     Excellent points made by @SpeakerPelosi at the...\n",
       "122     Great song, great effort and most importantly,...\n",
       "129     We dedicate our strides in cleanliness to Bapu...\n",
       "130     Together, we are building the India of Bapu’s ...\n",
       "137     India pays tributes to Mahatma Gandhi. #Gandhi...\n",
       "138     Paid tributes to respected Bapu at Sabarmati A...\n",
       "147     Let this become a mass movement across the wor...\n",
       "151     Today, on #GandhiJayanti, I will be in Ahmedab...\n",
       "156     राष्ट्रपिता महात्मा गांधी को उनकी 150वीं जन्म-...\n",
       "165     #MannKiBaat September 2019 had an interesting ...\n",
       "177     From competition to collaboration.\\n\\nKnow why...\n",
       "179     Interacting with young innovators at the #Sing...\n",
       "184     During #MannKiBaat, I spoke to the phenomenal ...\n",
       "188     She is one of the most accomplished and humble...\n",
       "189     Tune-in to this month’s #MannKiBaat. https://t...\n",
       "190     I have a very special guest joining us today d...\n",
       "191     A great mix of youth power and innovation! \\n\\...\n",
       "193     #नवरात्रि के पहले दिन हम देवी दुर्गा के प्रथम ...\n",
       "194     सभी देशवासियों को #नवरात्रि की बहुत-बहुत शुभका...\n",
       "198     Shaheed #BhagatSingh’s name is synonymous with...\n",
       "201     Community connect is at the heart of India-USA...\n",
       "238     Addressing the #BloombergGBF. Watch. @business...\n",
       "267     I am thankful to @RepMaloney for coming to Hou...\n",
       "281     It was special to have you at the #HowdyModi c...\n",
       "282     I appreciate your presence at #HowdyModi, @Sen...\n",
       "                              ...                        \n",
       "2579    India stands with our farmers! Launching the #...\n",
       "2580    Discussing several subjects during #MannKiBaat...\n",
       "2581    Today’s #MannKiBaat is special! Do tune in at ...\n",
       "2595    Addressing the @EconomicTimes Global Business ...\n",
       "2602    I would be giving the prize money of the #Seou...\n",
       "2650    This month’s #MannKiBaat programme will take p...\n",
       "2671    Addressing the #CREDAIYouthCon2019. Watch. htt...\n",
       "2673    I wholeheartedly support the #DrugFreeIndia mo...\n",
       "2676    I am really happy to see @BJP4India leaders an...\n",
       "2696    Today, will inaugurate @Petrotech2019 and addr...\n",
       "2759    Today, on #WorldCancerDay we reiterate our com...\n",
       "2784    The #BudgetForNewIndia, which was presented ye...\n",
       "2792    This is a #BudgetForNewIndia and for all India...\n",
       "2833    Thank you! \\n\\n#MannKiBaat showcases the extra...\n",
       "2852    2019's first #MannKiBaat. Tune in. https://t.c...\n",
       "2854    Tune in at 11 AM today. #MannKiBaat https://t....\n",
       "2858    The colours of India…\\n\\nHave a look at the cu...\n",
       "2860    Our vibrant Republic! \\n\\nHere are some glimps...\n",
       "2862    Happy Republic Day to all fellow Indians. \\n\\n...\n",
       "2875    Greetings on #NationalVotersDay. This is a day...\n",
       "2925    Made an announcement at the #PBD2019. Know wha...\n",
       "2964    The first #MannKiBaat of 2019 will take place ...\n",
       "2995    I commend the energetic @BJYM team for their #...\n",
       "3021    Best wishes to all those taking part in #GAvS2...\n",
       "3031    Happy #Uttarayan. \\n\\nMay you all scale new he...\n",
       "3034    #HappyMakarSankranti to everyone! https://t.co...\n",
       "3055    The thoughts and ideals of #SwamiVivekananda i...\n",
       "3075    More sports, better health and a fitter nation...\n",
       "3082    Attended the Inaugural Session of #Raisina2019...\n",
       "3181    Happy to be connecting once again, thanks to #...\n",
       "Name: text, Length: 261, dtype: object"
      ]
     },
     "execution_count": 195,
     "metadata": {},
     "output_type": "execute_result"
    }
   ],
   "source": [
    "table.iloc[ind]['text']"
   ]
  },
  {
   "cell_type": "code",
   "execution_count": null,
   "metadata": {},
   "outputs": [],
   "source": []
  }
 ],
 "metadata": {
  "kernelspec": {
   "display_name": "Python 3",
   "language": "python",
   "name": "python3"
  },
  "language_info": {
   "codemirror_mode": {
    "name": "ipython",
    "version": 3
   },
   "file_extension": ".py",
   "mimetype": "text/x-python",
   "name": "python",
   "nbconvert_exporter": "python",
   "pygments_lexer": "ipython3",
   "version": "3.7.3"
  }
 },
 "nbformat": 4,
 "nbformat_minor": 2
}
